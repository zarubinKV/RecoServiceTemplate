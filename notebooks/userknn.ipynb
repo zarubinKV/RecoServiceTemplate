{
 "cells": [
  {
   "cell_type": "code",
   "execution_count": 1,
   "id": "0e16c6a4",
   "metadata": {
    "pycharm": {
     "is_executing": true
    }
   },
   "outputs": [
    {
     "name": "stdout",
     "output_type": "stream",
     "text": [
      "/home/kirill/PycharmProjects/pythonProject/RecoServiceTemplate\n"
     ]
    }
   ],
   "source": [
    "%cd .."
   ]
  },
  {
   "cell_type": "code",
   "execution_count": 2,
   "id": "cc081a8b",
   "metadata": {},
   "outputs": [],
   "source": [
    "import pandas as pd\n",
    "from implicit.nearest_neighbours import CosineRecommender, TFIDFRecommender\n",
    "from rectools.dataset import Dataset\n",
    "from rectools import Columns\n",
    "from rectools.models.popular import PopularModel\n",
    "from models.userknn import UserKnn\n",
    "from rectools.model_selection import TimeRangeSplit\n",
    "from config.config_models import UserKnn_model_conf"
   ]
  },
  {
   "cell_type": "code",
   "execution_count": 3,
   "id": "90c1e93a",
   "metadata": {},
   "outputs": [],
   "source": [
    "# Train model flag\n",
    "RETRAIN = False"
   ]
  },
  {
   "cell_type": "markdown",
   "id": "5d8d97c1",
   "metadata": {},
   "source": [
    "# Get KION dataset"
   ]
  },
  {
   "cell_type": "code",
   "execution_count": 4,
   "id": "ffbd5175",
   "metadata": {},
   "outputs": [],
   "source": [
    "interactions = pd.read_csv('{0}/interactions.csv'.format(UserKnn_model_conf.dataset_path))\n",
    "users = pd.read_csv('{0}/users.csv'.format(UserKnn_model_conf.dataset_path))\n",
    "items = pd.read_csv('{0}/items.csv'.format(UserKnn_model_conf.dataset_path))"
   ]
  },
  {
   "cell_type": "code",
   "execution_count": 5,
   "id": "94a5a1d9",
   "metadata": {},
   "outputs": [],
   "source": [
    "# rename columns, convert timestamp\n",
    "interactions.rename(columns={'last_watch_dt': Columns.Datetime,\n",
    "                            'total_dur': Columns.Weight},\n",
    "                    inplace=True)\n",
    "\n",
    "interactions['datetime'] = pd.to_datetime(interactions['datetime'])"
   ]
  },
  {
   "cell_type": "code",
   "execution_count": 6,
   "id": "3cc40131",
   "metadata": {},
   "outputs": [],
   "source": [
    "max_date = interactions['datetime'].max()\n",
    "min_date = interactions['datetime'].min()"
   ]
  },
  {
   "cell_type": "markdown",
   "id": "dc128cf3",
   "metadata": {},
   "source": [
    "# From `itemkNN` to `userkNN `"
   ]
  },
  {
   "cell_type": "code",
   "execution_count": 7,
   "id": "5f70ff78",
   "metadata": {},
   "outputs": [],
   "source": [
    "n_folds = UserKnn_model_conf.n_folds\n",
    "unit = UserKnn_model_conf.unit\n",
    "n_units = UserKnn_model_conf.n_units\n",
    "periods = UserKnn_model_conf.periods\n",
    "freq = f\"{n_units}{unit}\"\n",
    "last_date = interactions[Columns.Datetime].max().normalize()\n",
    "start_date = last_date - pd.Timedelta(n_folds * n_units + 1, unit=unit)\n",
    "\n",
    "date_range = pd.date_range(start=start_date, periods=periods, freq=freq,\n",
    "                           tz=last_date.tz)\n",
    "# generator of folds\n",
    "cv = TimeRangeSplit(\n",
    "    date_range=date_range,\n",
    "    filter_already_seen=True,\n",
    "    filter_cold_items=True,\n",
    "    filter_cold_users=True,\n",
    ")"
   ]
  },
  {
   "cell_type": "code",
   "execution_count": 8,
   "id": "315f209c",
   "metadata": {},
   "outputs": [],
   "source": [
    "# we have just 1 test fold - no need to iterate over fold\n",
    "(train_ids, test_ids, fold_info) = cv.split(interactions, collect_fold_stats=True).__next__()"
   ]
  },
  {
   "cell_type": "markdown",
   "id": "567adfe4",
   "metadata": {},
   "source": [
    "# Fit userKNN model"
   ]
  },
  {
   "cell_type": "code",
   "execution_count": 9,
   "id": "b62c301e",
   "metadata": {},
   "outputs": [],
   "source": [
    "train = interactions.loc[train_ids]\n",
    "test = interactions.loc[test_ids]"
   ]
  },
  {
   "cell_type": "code",
   "execution_count": 10,
   "id": "87c09ac2",
   "metadata": {},
   "outputs": [],
   "source": [
    "import dill\n",
    "\n",
    "model = UserKnn_model_conf.model\n",
    "\n",
    "# Train model flag\n",
    "if RETRAIN:\n",
    "    userknn_model = UserKnn(model=model, N_users=50)\n",
    "    userknn_model.fit(train)\n",
    "else:\n",
    "    with open(UserKnn_model_conf.weight_path, 'rb') as f:\n",
    "        userknn_model = dill.load(f)"
   ]
  },
  {
   "cell_type": "markdown",
   "id": "f6d5a599",
   "metadata": {},
   "source": [
    "# Get recomendations"
   ]
  },
  {
   "cell_type": "code",
   "execution_count": 11,
   "id": "a61dd4ef",
   "metadata": {
    "scrolled": false
   },
   "outputs": [],
   "source": [
    "userknn_reco_df = userknn_model.predict(test, UserKnn_model_conf.N_recs)"
   ]
  },
  {
   "cell_type": "code",
   "execution_count": 12,
   "id": "bbe82b1b",
   "metadata": {},
   "outputs": [
    {
     "data": {
      "text/html": [
       "<div>\n",
       "<style scoped>\n",
       "    .dataframe tbody tr th:only-of-type {\n",
       "        vertical-align: middle;\n",
       "    }\n",
       "\n",
       "    .dataframe tbody tr th {\n",
       "        vertical-align: top;\n",
       "    }\n",
       "\n",
       "    .dataframe thead th {\n",
       "        text-align: right;\n",
       "    }\n",
       "</style>\n",
       "<table border=\"1\" class=\"dataframe\">\n",
       "  <thead>\n",
       "    <tr style=\"text-align: right;\">\n",
       "      <th></th>\n",
       "      <th>user_id</th>\n",
       "      <th>item_id</th>\n",
       "      <th>score</th>\n",
       "      <th>rank</th>\n",
       "    </tr>\n",
       "  </thead>\n",
       "  <tbody>\n",
       "    <tr>\n",
       "      <th>0</th>\n",
       "      <td>1097544</td>\n",
       "      <td>6309</td>\n",
       "      <td>5.979983</td>\n",
       "      <td>1</td>\n",
       "    </tr>\n",
       "    <tr>\n",
       "      <th>3</th>\n",
       "      <td>1097544</td>\n",
       "      <td>12768</td>\n",
       "      <td>4.52878</td>\n",
       "      <td>2</td>\n",
       "    </tr>\n",
       "    <tr>\n",
       "      <th>9</th>\n",
       "      <td>1097544</td>\n",
       "      <td>12455</td>\n",
       "      <td>3.681267</td>\n",
       "      <td>3</td>\n",
       "    </tr>\n",
       "    <tr>\n",
       "      <th>2</th>\n",
       "      <td>1097544</td>\n",
       "      <td>14317</td>\n",
       "      <td>2.907646</td>\n",
       "      <td>4</td>\n",
       "    </tr>\n",
       "    <tr>\n",
       "      <th>8</th>\n",
       "      <td>1097544</td>\n",
       "      <td>7626</td>\n",
       "      <td>2.633196</td>\n",
       "      <td>5</td>\n",
       "    </tr>\n",
       "    <tr>\n",
       "      <th>7</th>\n",
       "      <td>1097544</td>\n",
       "      <td>12173</td>\n",
       "      <td>2.621315</td>\n",
       "      <td>6</td>\n",
       "    </tr>\n",
       "    <tr>\n",
       "      <th>12</th>\n",
       "      <td>1097544</td>\n",
       "      <td>5658</td>\n",
       "      <td>2.470598</td>\n",
       "      <td>7</td>\n",
       "    </tr>\n",
       "    <tr>\n",
       "      <th>10</th>\n",
       "      <td>1097544</td>\n",
       "      <td>7829</td>\n",
       "      <td>2.401344</td>\n",
       "      <td>8</td>\n",
       "    </tr>\n",
       "    <tr>\n",
       "      <th>13</th>\n",
       "      <td>1097544</td>\n",
       "      <td>4740</td>\n",
       "      <td>2.040055</td>\n",
       "      <td>9</td>\n",
       "    </tr>\n",
       "    <tr>\n",
       "      <th>14</th>\n",
       "      <td>1097544</td>\n",
       "      <td>9996</td>\n",
       "      <td>2.03397</td>\n",
       "      <td>10</td>\n",
       "    </tr>\n",
       "  </tbody>\n",
       "</table>\n",
       "</div>"
      ],
      "text/plain": [
       "    user_id item_id     score  rank\n",
       "0   1097544    6309  5.979983     1\n",
       "3   1097544   12768   4.52878     2\n",
       "9   1097544   12455  3.681267     3\n",
       "2   1097544   14317  2.907646     4\n",
       "8   1097544    7626  2.633196     5\n",
       "7   1097544   12173  2.621315     6\n",
       "12  1097544    5658  2.470598     7\n",
       "10  1097544    7829  2.401344     8\n",
       "13  1097544    4740  2.040055     9\n",
       "14  1097544    9996   2.03397    10"
      ]
     },
     "execution_count": 12,
     "metadata": {},
     "output_type": "execute_result"
    }
   ],
   "source": [
    "userknn_reco_df[userknn_reco_df.user_id == 1097544]"
   ]
  },
  {
   "cell_type": "markdown",
   "id": "72674ba7",
   "metadata": {},
   "source": [
    "# Save recomendations df"
   ]
  },
  {
   "cell_type": "code",
   "execution_count": 13,
   "id": "2352de2d",
   "metadata": {},
   "outputs": [],
   "source": [
    "userknn_reco_df.to_csv(UserKnn_model_conf.save_reco_df_path, encoding='utf-8', index=False)\n",
    "\n",
    "# df = pd.read_csv('userknn_reco_df', encoding='utf-8')\n"
   ]
  },
  {
   "cell_type": "code",
   "execution_count": 13,
   "id": "6a419a55",
   "metadata": {},
   "outputs": [],
   "source": [
    "# # save model\n",
    "import dill\n",
    "\n",
    "with open(UserKnn_model_conf.weight_path, 'wb') as f:\n",
    "    dill.dump(userknn_model, f)"
   ]
  },
  {
   "cell_type": "code",
   "execution_count": null,
   "id": "6d88da74",
   "metadata": {},
   "outputs": [],
   "source": []
  }
 ],
 "metadata": {
  "kernelspec": {
   "display_name": "Python 3 (ipykernel)",
   "language": "python",
   "name": "python3"
  },
  "language_info": {
   "codemirror_mode": {
    "name": "ipython",
    "version": 3
   },
   "file_extension": ".py",
   "mimetype": "text/x-python",
   "name": "python",
   "nbconvert_exporter": "python",
   "pygments_lexer": "ipython3",
   "version": "3.8.10"
  }
 },
 "nbformat": 4,
 "nbformat_minor": 5
}
