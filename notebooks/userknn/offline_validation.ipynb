{
 "cells": [
  {
   "cell_type": "code",
   "execution_count": 1,
   "id": "d591ad1b",
   "metadata": {},
   "outputs": [
    {
     "name": "stdout",
     "output_type": "stream",
     "text": [
      "/home/kirill/PycharmProjects/pythonProject/RecoServiceTemplate\n"
     ]
    }
   ],
   "source": [
    "%cd ../.."
   ]
  },
  {
   "cell_type": "code",
   "execution_count": 2,
   "id": "297307f8",
   "metadata": {},
   "outputs": [],
   "source": [
    "import pandas as pd\n",
    "import numpy as np\n",
    "import requests\n",
    "from tqdm.auto import tqdm\n",
    "from scipy.stats import mode \n",
    "from pprint import pprint\n",
    "from implicit.nearest_neighbours import CosineRecommender, TFIDFRecommender\n",
    "import warnings\n",
    "warnings.filterwarnings(\"ignore\")\n",
    "\n",
    "from rectools import Columns\n",
    "from rectools.dataset import Dataset\n",
    "\n",
    "from models.userknn.userknn import UserKnn\n",
    "from models.config import UserKnn_model, Popular_model\n",
    "\n",
    "pd.set_option('display.max_columns', None)\n",
    "pd.set_option('display.max_colwidth', 200)"
   ]
  },
  {
   "cell_type": "markdown",
   "id": "1ab72bbd",
   "metadata": {},
   "source": [
    "# Get KION dataset"
   ]
  },
  {
   "cell_type": "code",
   "execution_count": 3,
   "id": "1f349c11",
   "metadata": {},
   "outputs": [],
   "source": [
    "interactions = pd.read_csv('{0}/interactions.csv'.format(UserKnn_model.dataset_path))\n",
    "users = pd.read_csv('{0}/users.csv'.format(UserKnn_model.dataset_path))\n",
    "items = pd.read_csv('{0}/items.csv'.format(UserKnn_model.dataset_path))"
   ]
  },
  {
   "cell_type": "code",
   "execution_count": 4,
   "id": "90fe394f",
   "metadata": {},
   "outputs": [],
   "source": [
    "# rename columns, convert timestamp\n",
    "interactions.rename(columns={'last_watch_dt': Columns.Datetime,\n",
    "                            'total_dur': Columns.Weight},\n",
    "                    inplace=True)\n",
    "\n",
    "interactions['datetime'] = pd.to_datetime(interactions['datetime'])"
   ]
  },
  {
   "cell_type": "code",
   "execution_count": 5,
   "id": "1e063e90",
   "metadata": {},
   "outputs": [],
   "source": [
    "max_date = interactions['datetime'].max()\n",
    "min_date = interactions['datetime'].min()"
   ]
  },
  {
   "cell_type": "markdown",
   "id": "ad8e37ce",
   "metadata": {},
   "source": [
    "#  userkNN model  CV\n",
    "\n",
    "Compare implicit `CosineRecommender` and `TFIDFRecommender` as an ItemKnn base \n",
    "\n"
   ]
  },
  {
   "cell_type": "code",
   "execution_count": 6,
   "id": "a90a45ca",
   "metadata": {},
   "outputs": [
    {
     "name": "stdout",
     "output_type": "stream",
     "text": [
      "Start date and last date of the test fold: (Timestamp('2021-06-27 00:00:00'), Timestamp('2021-08-22 00:00:00'))\n"
     ]
    }
   ],
   "source": [
    "# setting for cv \n",
    "n_folds = 7\n",
    "unit = \"W\"\n",
    "n_units = 1\n",
    "\n",
    "last_date = interactions[Columns.Datetime].max().normalize()\n",
    "start_date = last_date - pd.Timedelta(n_folds * n_units + 1, unit=unit)  \n",
    "print(f\"Start date and last date of the test fold: {start_date, last_date}\")"
   ]
  },
  {
   "cell_type": "markdown",
   "id": "e6fdea8e",
   "metadata": {},
   "source": [
    "### Test fold borders"
   ]
  },
  {
   "cell_type": "code",
   "execution_count": 7,
   "id": "a0513172",
   "metadata": {},
   "outputs": [
    {
     "name": "stdout",
     "output_type": "stream",
     "text": [
      "start_date: 2021-06-27 00:00:00\n",
      "last_date: 2021-08-22 00:00:00\n",
      "periods: 8\n",
      "freq: 1W\n",
      "\n",
      "Test fold borders: ['2021-06-27' '2021-07-04' '2021-07-11' '2021-07-18' '2021-07-25'\n",
      " '2021-08-01' '2021-08-08' '2021-08-15']\n",
      "Real number of folds: 7\n"
     ]
    }
   ],
   "source": [
    "from rectools.model_selection import TimeRangeSplit\n",
    "\n",
    "periods = n_folds + 1\n",
    "freq = f\"{n_units}{unit}\"\n",
    "print(\n",
    "    f\"start_date: {start_date}\\n\"\n",
    "    f\"last_date: {last_date}\\n\"\n",
    "    f\"periods: {periods}\\n\"\n",
    "    f\"freq: {freq}\\n\"\n",
    ")\n",
    "    \n",
    "date_range = pd.date_range(start=start_date, periods=periods, freq=freq, tz=last_date.tz)\n",
    "print(f\"Test fold borders: {date_range.values.astype('datetime64[D]')}\")\n",
    "\n",
    "# generator of folds\n",
    "cv = TimeRangeSplit(\n",
    "    date_range=date_range,\n",
    "    filter_already_seen=True,\n",
    "    filter_cold_items=True,\n",
    "    filter_cold_users=True,\n",
    ")\n",
    "print(f\"Real number of folds: {cv.get_n_splits(interactions)}\")"
   ]
  },
  {
   "cell_type": "code",
   "execution_count": 8,
   "id": "fce4747a",
   "metadata": {},
   "outputs": [],
   "source": [
    "from rectools.metrics import Precision, Recall, MeanInvUserFreq, Serendipity, calc_metrics\n",
    "\n",
    "# calculate several classic (precision@k and recall@k) and \"beyond accuracy\" metrics\n",
    "metrics = {\n",
    "    \"prec@10\": Precision(k=10),\n",
    "    \"recall@10\": Recall(k=10),\n",
    "    \"novelty\": MeanInvUserFreq(k=10),\n",
    "    \"serendipity\": Serendipity(k=10),\n",
    "}\n",
    "\n",
    "# few simple models to compare\n",
    "models = {\n",
    "    \"cosine_itemknn\": CosineRecommender(),\n",
    "    \"tfidf_itemknn\": TFIDFRecommender(),\n",
    "}\n"
   ]
  },
  {
   "cell_type": "markdown",
   "id": "06be6d3b",
   "metadata": {},
   "source": [
    "# Model training by fold (long fold = 7 days)"
   ]
  },
  {
   "cell_type": "code",
   "execution_count": null,
   "id": "d07f350f",
   "metadata": {
    "pycharm": {
     "is_executing": true
    }
   },
   "outputs": [
    {
     "name": "stdout",
     "output_type": "stream",
     "text": [
      "\n",
      "==================== Fold 0\n",
      "{'End date': Timestamp('2021-08-13 00:00:00', freq='4D'),\n",
      " 'Start date': Timestamp('2021-08-09 00:00:00', freq='4D'),\n",
      " 'Test': 162953,\n",
      " 'Test items': 5755,\n",
      " 'Test users': 71051,\n",
      " 'Train': 4649162,\n",
      " 'Train items': 15415,\n",
      " 'Train users': 850489}\n"
     ]
    },
    {
     "data": {
      "application/vnd.jupyter.widget-view+json": {
       "model_id": "e06065c9eac34d30aa828db782e583af",
       "version_major": 2,
       "version_minor": 0
      },
      "text/plain": [
       "  0%|          | 0/850489 [00:00<?, ?it/s]"
      ]
     },
     "metadata": {},
     "output_type": "display_data"
    },
    {
     "data": {
      "application/vnd.jupyter.widget-view+json": {
       "model_id": "5cb475b3ccd547c78e7a7b4a4b0b5f25",
       "version_major": 2,
       "version_minor": 0
      },
      "text/plain": [
       "  0%|          | 0/850489 [00:00<?, ?it/s]"
      ]
     },
     "metadata": {},
     "output_type": "display_data"
    },
    {
     "name": "stdout",
     "output_type": "stream",
     "text": [
      "\n",
      "==================== Fold 1\n",
      "{'End date': Timestamp('2021-08-17 00:00:00', freq='4D'),\n",
      " 'Start date': Timestamp('2021-08-13 00:00:00', freq='4D'),\n",
      " 'Test': 172960,\n",
      " 'Test items': 5951,\n",
      " 'Test users': 75887,\n",
      " 'Train': 4867782,\n",
      " 'Train items': 15519,\n",
      " 'Train users': 880449}\n"
     ]
    },
    {
     "data": {
      "application/vnd.jupyter.widget-view+json": {
       "model_id": "54a3f125aff54b7b85fcdd7b32992c7f",
       "version_major": 2,
       "version_minor": 0
      },
      "text/plain": [
       "  0%|          | 0/880449 [00:00<?, ?it/s]"
      ]
     },
     "metadata": {},
     "output_type": "display_data"
    }
   ],
   "source": [
    "%%time\n",
    "\n",
    "results = []\n",
    "\n",
    "fold_iterator = cv.split(interactions, collect_fold_stats=True)\n",
    "\n",
    "for i_fold, (train_ids, test_ids, fold_info) in enumerate(fold_iterator):\n",
    "    print(f\"\\n==================== Fold {i_fold}\")\n",
    "    pprint(fold_info)\n",
    "\n",
    "    df_train = interactions.iloc[train_ids].copy()\n",
    "    df_test = interactions.iloc[test_ids][Columns.UserItem].copy()\n",
    "\n",
    "    catalog = df_train[Columns.Item].unique()\n",
    "    \n",
    "    for model_name, model in models.items():\n",
    "        userknn_model = UserKnn(model=model, N_users=50)\n",
    "        userknn_model.fit(df_train)\n",
    "    \n",
    "        recos = userknn_model.predict(df_test)\n",
    "    \n",
    "        metric_values = calc_metrics(\n",
    "            metrics,\n",
    "            reco=recos,\n",
    "            interactions=df_test,\n",
    "            prev_interactions=df_train,\n",
    "            catalog=catalog,\n",
    "        )\n",
    "    \n",
    "        fold = {\"fold\": i_fold, \"model\": model_name}\n",
    "        fold.update(metric_values)\n",
    "        results.append(fold)\n",
    "        "
   ]
  },
  {
   "cell_type": "markdown",
   "id": "f721eb3b",
   "metadata": {},
   "source": [
    "# 👌 Metrics \n",
    "\n",
    "`Metrics by fold`\n",
    "\n"
   ]
  },
  {
   "cell_type": "markdown",
   "id": "c0fb2e29",
   "metadata": {},
   "source": [
    "## Metric description \n",
    "- ### <a href=\"https://rectools.readthedocs.io/en/latest/api/rectools.metrics.novelty.MeanInvUserFreq.html#rectools.metrics.novelty.MeanInvUserFreq\"> Mean Inverse User Frequency (novelty)</a>\n",
    "\n",
    "- ### <a href=\"https://rectools.readthedocs.io/en/latest/api/rectools.metrics.serendipity.Serendipity.html\"> Serendipity = novelty and relevance</a>"
   ]
  },
  {
   "cell_type": "code",
   "execution_count": 29,
   "id": "5140f29c",
   "metadata": {},
   "outputs": [
    {
     "data": {
      "text/html": [
       "<div>\n",
       "<style scoped>\n",
       "    .dataframe tbody tr th:only-of-type {\n",
       "        vertical-align: middle;\n",
       "    }\n",
       "\n",
       "    .dataframe tbody tr th {\n",
       "        vertical-align: top;\n",
       "    }\n",
       "\n",
       "    .dataframe thead th {\n",
       "        text-align: right;\n",
       "    }\n",
       "</style>\n",
       "<table border=\"1\" class=\"dataframe\">\n",
       "  <thead>\n",
       "    <tr style=\"text-align: right;\">\n",
       "      <th></th>\n",
       "      <th>fold</th>\n",
       "      <th>model</th>\n",
       "      <th>prec@10</th>\n",
       "      <th>recall@10</th>\n",
       "      <th>novelty</th>\n",
       "      <th>serendipity</th>\n",
       "    </tr>\n",
       "  </thead>\n",
       "  <tbody>\n",
       "    <tr>\n",
       "      <th>0</th>\n",
       "      <td>0</td>\n",
       "      <td>cosine_itemknn</td>\n",
       "      <td>0.002922</td>\n",
       "      <td>0.014984</td>\n",
       "      <td>9.260631</td>\n",
       "      <td>0.000038</td>\n",
       "    </tr>\n",
       "    <tr>\n",
       "      <th>1</th>\n",
       "      <td>0</td>\n",
       "      <td>tfidf_itemknn</td>\n",
       "      <td>0.004639</td>\n",
       "      <td>0.024704</td>\n",
       "      <td>8.321053</td>\n",
       "      <td>0.000039</td>\n",
       "    </tr>\n",
       "    <tr>\n",
       "      <th>2</th>\n",
       "      <td>1</td>\n",
       "      <td>cosine_itemknn</td>\n",
       "      <td>0.003003</td>\n",
       "      <td>0.015476</td>\n",
       "      <td>9.358990</td>\n",
       "      <td>0.000049</td>\n",
       "    </tr>\n",
       "    <tr>\n",
       "      <th>3</th>\n",
       "      <td>1</td>\n",
       "      <td>tfidf_itemknn</td>\n",
       "      <td>0.004590</td>\n",
       "      <td>0.024952</td>\n",
       "      <td>8.381346</td>\n",
       "      <td>0.000047</td>\n",
       "    </tr>\n",
       "    <tr>\n",
       "      <th>4</th>\n",
       "      <td>2</td>\n",
       "      <td>cosine_itemknn</td>\n",
       "      <td>0.002793</td>\n",
       "      <td>0.014482</td>\n",
       "      <td>9.503543</td>\n",
       "      <td>0.000053</td>\n",
       "    </tr>\n",
       "    <tr>\n",
       "      <th>5</th>\n",
       "      <td>2</td>\n",
       "      <td>tfidf_itemknn</td>\n",
       "      <td>0.004015</td>\n",
       "      <td>0.021479</td>\n",
       "      <td>8.513031</td>\n",
       "      <td>0.000051</td>\n",
       "    </tr>\n",
       "    <tr>\n",
       "      <th>6</th>\n",
       "      <td>3</td>\n",
       "      <td>cosine_itemknn</td>\n",
       "      <td>0.002605</td>\n",
       "      <td>0.013047</td>\n",
       "      <td>9.595365</td>\n",
       "      <td>0.000052</td>\n",
       "    </tr>\n",
       "    <tr>\n",
       "      <th>7</th>\n",
       "      <td>3</td>\n",
       "      <td>tfidf_itemknn</td>\n",
       "      <td>0.004076</td>\n",
       "      <td>0.020768</td>\n",
       "      <td>8.612428</td>\n",
       "      <td>0.000057</td>\n",
       "    </tr>\n",
       "    <tr>\n",
       "      <th>8</th>\n",
       "      <td>4</td>\n",
       "      <td>cosine_itemknn</td>\n",
       "      <td>0.002469</td>\n",
       "      <td>0.011693</td>\n",
       "      <td>9.624027</td>\n",
       "      <td>0.000057</td>\n",
       "    </tr>\n",
       "    <tr>\n",
       "      <th>9</th>\n",
       "      <td>4</td>\n",
       "      <td>tfidf_itemknn</td>\n",
       "      <td>0.003720</td>\n",
       "      <td>0.018538</td>\n",
       "      <td>8.647398</td>\n",
       "      <td>0.000058</td>\n",
       "    </tr>\n",
       "    <tr>\n",
       "      <th>10</th>\n",
       "      <td>5</td>\n",
       "      <td>cosine_itemknn</td>\n",
       "      <td>0.002415</td>\n",
       "      <td>0.011502</td>\n",
       "      <td>9.634881</td>\n",
       "      <td>0.000057</td>\n",
       "    </tr>\n",
       "    <tr>\n",
       "      <th>11</th>\n",
       "      <td>5</td>\n",
       "      <td>tfidf_itemknn</td>\n",
       "      <td>0.003637</td>\n",
       "      <td>0.018502</td>\n",
       "      <td>8.644493</td>\n",
       "      <td>0.000055</td>\n",
       "    </tr>\n",
       "    <tr>\n",
       "      <th>12</th>\n",
       "      <td>6</td>\n",
       "      <td>cosine_itemknn</td>\n",
       "      <td>0.002424</td>\n",
       "      <td>0.011187</td>\n",
       "      <td>9.715327</td>\n",
       "      <td>0.000064</td>\n",
       "    </tr>\n",
       "    <tr>\n",
       "      <th>13</th>\n",
       "      <td>6</td>\n",
       "      <td>tfidf_itemknn</td>\n",
       "      <td>0.003612</td>\n",
       "      <td>0.017961</td>\n",
       "      <td>8.695295</td>\n",
       "      <td>0.000059</td>\n",
       "    </tr>\n",
       "  </tbody>\n",
       "</table>\n",
       "</div>"
      ],
      "text/plain": [
       "    fold           model   prec@10  recall@10   novelty  serendipity\n",
       "0      0  cosine_itemknn  0.002922   0.014984  9.260631     0.000038\n",
       "1      0   tfidf_itemknn  0.004639   0.024704  8.321053     0.000039\n",
       "2      1  cosine_itemknn  0.003003   0.015476  9.358990     0.000049\n",
       "3      1   tfidf_itemknn  0.004590   0.024952  8.381346     0.000047\n",
       "4      2  cosine_itemknn  0.002793   0.014482  9.503543     0.000053\n",
       "5      2   tfidf_itemknn  0.004015   0.021479  8.513031     0.000051\n",
       "6      3  cosine_itemknn  0.002605   0.013047  9.595365     0.000052\n",
       "7      3   tfidf_itemknn  0.004076   0.020768  8.612428     0.000057\n",
       "8      4  cosine_itemknn  0.002469   0.011693  9.624027     0.000057\n",
       "9      4   tfidf_itemknn  0.003720   0.018538  8.647398     0.000058\n",
       "10     5  cosine_itemknn  0.002415   0.011502  9.634881     0.000057\n",
       "11     5   tfidf_itemknn  0.003637   0.018502  8.644493     0.000055\n",
       "12     6  cosine_itemknn  0.002424   0.011187  9.715327     0.000064\n",
       "13     6   tfidf_itemknn  0.003612   0.017961  8.695295     0.000059"
      ]
     },
     "execution_count": 29,
     "metadata": {},
     "output_type": "execute_result"
    }
   ],
   "source": [
    "# 7 days, 7 folds\n",
    "df_metrics = pd.DataFrame(results)\n",
    "df_metrics"
   ]
  },
  {
   "cell_type": "code",
   "execution_count": 77,
   "id": "a2c6d999",
   "metadata": {},
   "outputs": [],
   "source": [
    "df_metrics.to_pickle(\"df_metrics.pickle\")"
   ]
  },
  {
   "cell_type": "markdown",
   "id": "ee277c01",
   "metadata": {},
   "source": [
    "## Metrics mean by fold\n",
    "`we can compare two models`"
   ]
  },
  {
   "cell_type": "code",
   "execution_count": 79,
   "id": "358d6a1d",
   "metadata": {},
   "outputs": [
    {
     "data": {
      "text/html": [
       "<div>\n",
       "<style scoped>\n",
       "    .dataframe tbody tr th:only-of-type {\n",
       "        vertical-align: middle;\n",
       "    }\n",
       "\n",
       "    .dataframe tbody tr th {\n",
       "        vertical-align: top;\n",
       "    }\n",
       "\n",
       "    .dataframe thead th {\n",
       "        text-align: right;\n",
       "    }\n",
       "</style>\n",
       "<table border=\"1\" class=\"dataframe\">\n",
       "  <thead>\n",
       "    <tr style=\"text-align: right;\">\n",
       "      <th></th>\n",
       "      <th>prec@10</th>\n",
       "      <th>recall@10</th>\n",
       "      <th>novelty</th>\n",
       "      <th>serendipity</th>\n",
       "    </tr>\n",
       "    <tr>\n",
       "      <th>model</th>\n",
       "      <th></th>\n",
       "      <th></th>\n",
       "      <th></th>\n",
       "      <th></th>\n",
       "    </tr>\n",
       "  </thead>\n",
       "  <tbody>\n",
       "    <tr>\n",
       "      <th>cosine_itemknn</th>\n",
       "      <td>0.002662</td>\n",
       "      <td>0.013196</td>\n",
       "      <td>9.527538</td>\n",
       "      <td>0.000053</td>\n",
       "    </tr>\n",
       "    <tr>\n",
       "      <th>tfidf_itemknn</th>\n",
       "      <td>0.004041</td>\n",
       "      <td>0.020986</td>\n",
       "      <td>8.545006</td>\n",
       "      <td>0.000052</td>\n",
       "    </tr>\n",
       "  </tbody>\n",
       "</table>\n",
       "</div>"
      ],
      "text/plain": [
       "                 prec@10  recall@10   novelty  serendipity\n",
       "model                                                     \n",
       "cosine_itemknn  0.002662   0.013196  9.527538     0.000053\n",
       "tfidf_itemknn   0.004041   0.020986  8.545006     0.000052"
      ]
     },
     "execution_count": 79,
     "metadata": {},
     "output_type": "execute_result"
    }
   ],
   "source": [
    "df_metrics.groupby('model').mean()[metrics.keys()]"
   ]
  },
  {
   "cell_type": "markdown",
   "id": "1caa9ea3",
   "metadata": {},
   "source": [
    "## Metrics std by fold\n",
    "\n",
    "`If a diff between model metrics less than an std value => there is no significant difference observed`\n",
    "\n",
    "- For instance, for the serendipity metric there is no such difference between cosine_itemknn and tfidf_itemknn model results"
   ]
  },
  {
   "cell_type": "code",
   "execution_count": 80,
   "id": "23583ea1",
   "metadata": {},
   "outputs": [
    {
     "data": {
      "text/html": [
       "<div>\n",
       "<style scoped>\n",
       "    .dataframe tbody tr th:only-of-type {\n",
       "        vertical-align: middle;\n",
       "    }\n",
       "\n",
       "    .dataframe tbody tr th {\n",
       "        vertical-align: top;\n",
       "    }\n",
       "\n",
       "    .dataframe thead th {\n",
       "        text-align: right;\n",
       "    }\n",
       "</style>\n",
       "<table border=\"1\" class=\"dataframe\">\n",
       "  <thead>\n",
       "    <tr style=\"text-align: right;\">\n",
       "      <th></th>\n",
       "      <th>prec@10</th>\n",
       "      <th>recall@10</th>\n",
       "      <th>novelty</th>\n",
       "      <th>serendipity</th>\n",
       "    </tr>\n",
       "    <tr>\n",
       "      <th>model</th>\n",
       "      <th></th>\n",
       "      <th></th>\n",
       "      <th></th>\n",
       "      <th></th>\n",
       "    </tr>\n",
       "  </thead>\n",
       "  <tbody>\n",
       "    <tr>\n",
       "      <th>cosine_itemknn</th>\n",
       "      <td>0.000245</td>\n",
       "      <td>0.00179</td>\n",
       "      <td>0.163769</td>\n",
       "      <td>0.000008</td>\n",
       "    </tr>\n",
       "    <tr>\n",
       "      <th>tfidf_itemknn</th>\n",
       "      <td>0.000430</td>\n",
       "      <td>0.00292</td>\n",
       "      <td>0.144612</td>\n",
       "      <td>0.000007</td>\n",
       "    </tr>\n",
       "  </tbody>\n",
       "</table>\n",
       "</div>"
      ],
      "text/plain": [
       "                 prec@10  recall@10   novelty  serendipity\n",
       "model                                                     \n",
       "cosine_itemknn  0.000245    0.00179  0.163769     0.000008\n",
       "tfidf_itemknn   0.000430    0.00292  0.144612     0.000007"
      ]
     },
     "execution_count": 80,
     "metadata": {},
     "output_type": "execute_result"
    }
   ],
   "source": [
    "df_metrics.groupby('model').std()[metrics.keys()]"
   ]
  },
  {
   "cell_type": "code",
   "execution_count": 46,
   "id": "fdd7b118",
   "metadata": {},
   "outputs": [],
   "source": [
    "df = df_metrics.groupby('model').mean()[metrics.keys()]"
   ]
  },
  {
   "cell_type": "code",
   "execution_count": 59,
   "id": "ef13ce38",
   "metadata": {},
   "outputs": [
    {
     "data": {
      "text/plain": [
       "prec@10       -1.379527e-03\n",
       "recall@10     -7.790503e-03\n",
       "novelty        9.825315e-01\n",
       "serendipity    3.613396e-07\n",
       "dtype: float64"
      ]
     },
     "execution_count": 59,
     "metadata": {},
     "output_type": "execute_result"
    }
   ],
   "source": [
    "diff = df.loc['cosine_itemknn'] - df.loc['tfidf_itemknn']\n",
    "diff"
   ]
  },
  {
   "cell_type": "markdown",
   "id": "abf95854",
   "metadata": {},
   "source": [
    "#  userkNN model  CV (4 days)\n",
    "\n",
    "Compare implicit `CosineRecommender` and `TFIDFRecommender` as an ItemKnn base \n",
    "\n"
   ]
  },
  {
   "cell_type": "code",
   "execution_count": 9,
   "id": "75525009",
   "metadata": {},
   "outputs": [
    {
     "name": "stdout",
     "output_type": "stream",
     "text": [
      "Start date and last date of the test fold: (Timestamp('2021-08-09 00:00:00'), Timestamp('2021-08-22 00:00:00'))\n"
     ]
    }
   ],
   "source": [
    "# setting for cv \n",
    "n_folds = 3\n",
    "unit = \"D\"\n",
    "n_units = 4\n",
    "\n",
    "last_date = interactions[Columns.Datetime].max().normalize()\n",
    "start_date = last_date - pd.Timedelta(n_folds * n_units + 1, unit=unit)  \n",
    "print(f\"Start date and last date of the test fold: {start_date, last_date}\")"
   ]
  },
  {
   "cell_type": "code",
   "execution_count": 14,
   "id": "9e45e324",
   "metadata": {},
   "outputs": [
    {
     "name": "stdout",
     "output_type": "stream",
     "text": [
      "Start date and last date of the test fold: (Timestamp('2021-08-09 00:00:00'), Timestamp('2021-08-22 00:00:00'))\n",
      "start_date: 2021-08-09 00:00:00\n",
      "last_date: 2021-08-22 00:00:00\n",
      "periods: 4\n",
      "freq: 4D\n",
      "\n",
      "Test fold borders: ['2021-08-09' '2021-08-13' '2021-08-17' '2021-08-21']\n",
      "Real number of folds: 3\n"
     ]
    }
   ],
   "source": [
    "# setting for cv \n",
    "n_folds = 3\n",
    "unit = \"D\"\n",
    "n_units = 4\n",
    "\n",
    "last_date = interactions[Columns.Datetime].max().normalize()\n",
    "start_date = last_date - pd.Timedelta(n_folds * n_units + 1, unit=unit)  \n",
    "print(f\"Start date and last date of the test fold: {start_date, last_date}\")\n",
    "from rectools.model_selection import TimeRangeSplit\n",
    "\n",
    "periods = n_folds + 1\n",
    "freq = f\"{n_units}{unit}\"\n",
    "print(\n",
    "    f\"start_date: {start_date}\\n\"\n",
    "    f\"last_date: {last_date}\\n\"\n",
    "    f\"periods: {periods}\\n\"\n",
    "    f\"freq: {freq}\\n\"\n",
    ")\n",
    "    \n",
    "date_range = pd.date_range(start=start_date, periods=periods, freq=freq, tz=last_date.tz)\n",
    "print(f\"Test fold borders: {date_range.values.astype('datetime64[D]')}\")\n",
    "\n",
    "# generator of folds\n",
    "cv = TimeRangeSplit(\n",
    "    date_range=date_range,\n",
    "    filter_already_seen=True,\n",
    "    filter_cold_items=True,\n",
    "    filter_cold_users=True,\n",
    ")\n",
    "print(f\"Real number of folds: {cv.get_n_splits(interactions)}\")"
   ]
  },
  {
   "cell_type": "code",
   "execution_count": 10,
   "id": "060a39f3",
   "metadata": {},
   "outputs": [
    {
     "name": "stdout",
     "output_type": "stream",
     "text": [
      "start_date: 2021-08-09 00:00:00\n",
      "last_date: 2021-08-22 00:00:00\n",
      "periods: 4\n",
      "freq: 4D\n",
      "\n",
      "Test fold borders: ['2021-08-09' '2021-08-13' '2021-08-17' '2021-08-21']\n",
      "Real number of folds: 3\n"
     ]
    }
   ],
   "source": [
    "from rectools.model_selection import TimeRangeSplit\n",
    "\n",
    "periods = n_folds + 1\n",
    "freq = f\"{n_units}{unit}\"\n",
    "print(\n",
    "    f\"start_date: {start_date}\\n\"\n",
    "    f\"last_date: {last_date}\\n\"\n",
    "    f\"periods: {periods}\\n\"\n",
    "    f\"freq: {freq}\\n\"\n",
    ")\n",
    "    \n",
    "date_range = pd.date_range(start=start_date, periods=periods, freq=freq, tz=last_date.tz)\n",
    "print(f\"Test fold borders: {date_range.values.astype('datetime64[D]')}\")\n",
    "\n",
    "# generator of folds\n",
    "cv = TimeRangeSplit(\n",
    "    date_range=date_range,\n",
    "    filter_already_seen=True,\n",
    "    filter_cold_items=True,\n",
    "    filter_cold_users=True,\n",
    ")\n",
    "print(f\"Real number of folds: {cv.get_n_splits(interactions)}\")"
   ]
  },
  {
   "cell_type": "markdown",
   "id": "ec301cfc",
   "metadata": {},
   "source": [
    "# Model training by fold (long fold = 4 days)"
   ]
  },
  {
   "cell_type": "code",
   "execution_count": 25,
   "id": "7c5072b6",
   "metadata": {},
   "outputs": [
    {
     "name": "stdout",
     "output_type": "stream",
     "text": [
      "\n",
      "==================== Fold 0\n",
      "{'End date': Timestamp('2021-08-13 00:00:00', freq='4D'),\n",
      " 'Start date': Timestamp('2021-08-09 00:00:00', freq='4D'),\n",
      " 'Test': 162953,\n",
      " 'Test items': 5755,\n",
      " 'Test users': 71051,\n",
      " 'Train': 4649162,\n",
      " 'Train items': 15415,\n",
      " 'Train users': 850489}\n"
     ]
    },
    {
     "data": {
      "application/vnd.jupyter.widget-view+json": {
       "model_id": "d94d2651358f45e98516d84ea0a6bc60",
       "version_major": 2,
       "version_minor": 0
      },
      "text/plain": [
       "  0%|          | 0/850489 [00:00<?, ?it/s]"
      ]
     },
     "metadata": {},
     "output_type": "display_data"
    },
    {
     "data": {
      "application/vnd.jupyter.widget-view+json": {
       "model_id": "5f966df49fe84e11833fb427f37de385",
       "version_major": 2,
       "version_minor": 0
      },
      "text/plain": [
       "  0%|          | 0/850489 [00:00<?, ?it/s]"
      ]
     },
     "metadata": {},
     "output_type": "display_data"
    },
    {
     "name": "stdout",
     "output_type": "stream",
     "text": [
      "\n",
      "==================== Fold 1\n",
      "{'End date': Timestamp('2021-08-17 00:00:00', freq='4D'),\n",
      " 'Start date': Timestamp('2021-08-13 00:00:00', freq='4D'),\n",
      " 'Test': 172960,\n",
      " 'Test items': 5951,\n",
      " 'Test users': 75887,\n",
      " 'Train': 4867782,\n",
      " 'Train items': 15519,\n",
      " 'Train users': 880449}\n"
     ]
    },
    {
     "data": {
      "application/vnd.jupyter.widget-view+json": {
       "model_id": "346bb900c54b45018c54c3e336a33abe",
       "version_major": 2,
       "version_minor": 0
      },
      "text/plain": [
       "  0%|          | 0/880449 [00:00<?, ?it/s]"
      ]
     },
     "metadata": {},
     "output_type": "display_data"
    },
    {
     "data": {
      "application/vnd.jupyter.widget-view+json": {
       "model_id": "6b09d67273cb423aa8eb9f4acec0743e",
       "version_major": 2,
       "version_minor": 0
      },
      "text/plain": [
       "  0%|          | 0/880449 [00:00<?, ?it/s]"
      ]
     },
     "metadata": {},
     "output_type": "display_data"
    },
    {
     "name": "stdout",
     "output_type": "stream",
     "text": [
      "\n",
      "==================== Fold 2\n",
      "{'End date': Timestamp('2021-08-21 00:00:00', freq='4D'),\n",
      " 'Start date': Timestamp('2021-08-17 00:00:00', freq='4D'),\n",
      " 'Test': 171074,\n",
      " 'Test items': 5824,\n",
      " 'Test users': 74740,\n",
      " 'Train': 5106361,\n",
      " 'Train items': 15589,\n",
      " 'Train users': 913604}\n"
     ]
    },
    {
     "data": {
      "application/vnd.jupyter.widget-view+json": {
       "model_id": "becca610fb8e46e195b6513ca8372b23",
       "version_major": 2,
       "version_minor": 0
      },
      "text/plain": [
       "  0%|          | 0/913604 [00:00<?, ?it/s]"
      ]
     },
     "metadata": {},
     "output_type": "display_data"
    },
    {
     "data": {
      "application/vnd.jupyter.widget-view+json": {
       "model_id": "5642e67b1cf440ebba68535b81782f58",
       "version_major": 2,
       "version_minor": 0
      },
      "text/plain": [
       "  0%|          | 0/913604 [00:00<?, ?it/s]"
      ]
     },
     "metadata": {},
     "output_type": "display_data"
    },
    {
     "name": "stdout",
     "output_type": "stream",
     "text": [
      "CPU times: user 1d 17h 43s, sys: 3min 41s, total: 1d 17h 4min 25s\n",
      "Wall time: 4h 8min 48s\n"
     ]
    }
   ],
   "source": [
    "%%time\n",
    "\n",
    "results = []\n",
    "\n",
    "fold_iterator = cv.split(interactions, collect_fold_stats=True)\n",
    "\n",
    "for i_fold, (train_ids, test_ids, fold_info) in enumerate(fold_iterator):\n",
    "    print(f\"\\n==================== Fold {i_fold}\")\n",
    "    pprint(fold_info)\n",
    "\n",
    "    df_train = interactions.iloc[train_ids].copy()\n",
    "    df_test = interactions.iloc[test_ids][Columns.UserItem].copy()\n",
    "\n",
    "    catalog = df_train[Columns.Item].unique()\n",
    "    \n",
    "    for model_name, model in models.items():\n",
    "        userknn_model = UserKnn(model=model, N_users=50)\n",
    "        userknn_model.fit(df_train)\n",
    "    \n",
    "        recos = userknn_model.predict(df_test)\n",
    "    \n",
    "        metric_values = calc_metrics(\n",
    "            metrics,\n",
    "            reco=recos,\n",
    "            interactions=df_test,\n",
    "            prev_interactions=df_train,\n",
    "            catalog=catalog,\n",
    "        )\n",
    "    \n",
    "        fold = {\"fold\": i_fold, \"model\": model_name}\n",
    "        fold.update(metric_values)\n",
    "        results.append(fold)\n",
    "        "
   ]
  },
  {
   "cell_type": "code",
   "execution_count": 26,
   "id": "8398be54",
   "metadata": {},
   "outputs": [
    {
     "data": {
      "text/html": [
       "<div>\n",
       "<style scoped>\n",
       "    .dataframe tbody tr th:only-of-type {\n",
       "        vertical-align: middle;\n",
       "    }\n",
       "\n",
       "    .dataframe tbody tr th {\n",
       "        vertical-align: top;\n",
       "    }\n",
       "\n",
       "    .dataframe thead th {\n",
       "        text-align: right;\n",
       "    }\n",
       "</style>\n",
       "<table border=\"1\" class=\"dataframe\">\n",
       "  <thead>\n",
       "    <tr style=\"text-align: right;\">\n",
       "      <th></th>\n",
       "      <th>fold</th>\n",
       "      <th>model</th>\n",
       "      <th>prec@10</th>\n",
       "      <th>recall@10</th>\n",
       "      <th>novelty</th>\n",
       "      <th>serendipity</th>\n",
       "    </tr>\n",
       "  </thead>\n",
       "  <tbody>\n",
       "    <tr>\n",
       "      <th>0</th>\n",
       "      <td>0</td>\n",
       "      <td>cosine_itemknn</td>\n",
       "      <td>0.002912</td>\n",
       "      <td>0.016831</td>\n",
       "      <td>8.264488</td>\n",
       "      <td>0.000042</td>\n",
       "    </tr>\n",
       "    <tr>\n",
       "      <th>1</th>\n",
       "      <td>0</td>\n",
       "      <td>tfidf_itemknn</td>\n",
       "      <td>0.005143</td>\n",
       "      <td>0.030107</td>\n",
       "      <td>8.255900</td>\n",
       "      <td>0.000057</td>\n",
       "    </tr>\n",
       "    <tr>\n",
       "      <th>2</th>\n",
       "      <td>1</td>\n",
       "      <td>cosine_itemknn</td>\n",
       "      <td>0.002912</td>\n",
       "      <td>0.016824</td>\n",
       "      <td>8.311312</td>\n",
       "      <td>0.000042</td>\n",
       "    </tr>\n",
       "    <tr>\n",
       "      <th>3</th>\n",
       "      <td>1</td>\n",
       "      <td>tfidf_itemknn</td>\n",
       "      <td>0.005080</td>\n",
       "      <td>0.030262</td>\n",
       "      <td>8.289351</td>\n",
       "      <td>0.000053</td>\n",
       "    </tr>\n",
       "    <tr>\n",
       "      <th>4</th>\n",
       "      <td>2</td>\n",
       "      <td>cosine_itemknn</td>\n",
       "      <td>0.002807</td>\n",
       "      <td>0.015895</td>\n",
       "      <td>8.344919</td>\n",
       "      <td>0.000045</td>\n",
       "    </tr>\n",
       "    <tr>\n",
       "      <th>5</th>\n",
       "      <td>2</td>\n",
       "      <td>tfidf_itemknn</td>\n",
       "      <td>0.004888</td>\n",
       "      <td>0.028442</td>\n",
       "      <td>8.295118</td>\n",
       "      <td>0.000057</td>\n",
       "    </tr>\n",
       "  </tbody>\n",
       "</table>\n",
       "</div>"
      ],
      "text/plain": [
       "   fold           model   prec@10  recall@10   novelty  serendipity\n",
       "0     0  cosine_itemknn  0.002912   0.016831  8.264488     0.000042\n",
       "1     0   tfidf_itemknn  0.005143   0.030107  8.255900     0.000057\n",
       "2     1  cosine_itemknn  0.002912   0.016824  8.311312     0.000042\n",
       "3     1   tfidf_itemknn  0.005080   0.030262  8.289351     0.000053\n",
       "4     2  cosine_itemknn  0.002807   0.015895  8.344919     0.000045\n",
       "5     2   tfidf_itemknn  0.004888   0.028442  8.295118     0.000057"
      ]
     },
     "execution_count": 26,
     "metadata": {},
     "output_type": "execute_result"
    }
   ],
   "source": [
    "df_metrics = pd.DataFrame(results)\n",
    "df_metrics"
   ]
  },
  {
   "cell_type": "code",
   "execution_count": 27,
   "id": "190bc1b1",
   "metadata": {},
   "outputs": [],
   "source": [
    "df_metrics.to_pickle(\"df_metrics.pickle\")"
   ]
  },
  {
   "cell_type": "code",
   "execution_count": 28,
   "id": "954b9be1",
   "metadata": {},
   "outputs": [
    {
     "data": {
      "text/html": [
       "<div>\n",
       "<style scoped>\n",
       "    .dataframe tbody tr th:only-of-type {\n",
       "        vertical-align: middle;\n",
       "    }\n",
       "\n",
       "    .dataframe tbody tr th {\n",
       "        vertical-align: top;\n",
       "    }\n",
       "\n",
       "    .dataframe thead th {\n",
       "        text-align: right;\n",
       "    }\n",
       "</style>\n",
       "<table border=\"1\" class=\"dataframe\">\n",
       "  <thead>\n",
       "    <tr style=\"text-align: right;\">\n",
       "      <th></th>\n",
       "      <th>prec@10</th>\n",
       "      <th>recall@10</th>\n",
       "      <th>novelty</th>\n",
       "      <th>serendipity</th>\n",
       "    </tr>\n",
       "    <tr>\n",
       "      <th>model</th>\n",
       "      <th></th>\n",
       "      <th></th>\n",
       "      <th></th>\n",
       "      <th></th>\n",
       "    </tr>\n",
       "  </thead>\n",
       "  <tbody>\n",
       "    <tr>\n",
       "      <th>cosine_itemknn</th>\n",
       "      <td>0.002877</td>\n",
       "      <td>0.016517</td>\n",
       "      <td>8.306906</td>\n",
       "      <td>0.000043</td>\n",
       "    </tr>\n",
       "    <tr>\n",
       "      <th>tfidf_itemknn</th>\n",
       "      <td>0.005037</td>\n",
       "      <td>0.029604</td>\n",
       "      <td>8.280123</td>\n",
       "      <td>0.000056</td>\n",
       "    </tr>\n",
       "  </tbody>\n",
       "</table>\n",
       "</div>"
      ],
      "text/plain": [
       "                 prec@10  recall@10   novelty  serendipity\n",
       "model                                                     \n",
       "cosine_itemknn  0.002877   0.016517  8.306906     0.000043\n",
       "tfidf_itemknn   0.005037   0.029604  8.280123     0.000056"
      ]
     },
     "execution_count": 28,
     "metadata": {},
     "output_type": "execute_result"
    }
   ],
   "source": [
    "df_metrics.groupby('model').mean()[metrics.keys()]"
   ]
  },
  {
   "cell_type": "code",
   "execution_count": 29,
   "id": "ebe11739",
   "metadata": {},
   "outputs": [
    {
     "data": {
      "text/html": [
       "<div>\n",
       "<style scoped>\n",
       "    .dataframe tbody tr th:only-of-type {\n",
       "        vertical-align: middle;\n",
       "    }\n",
       "\n",
       "    .dataframe tbody tr th {\n",
       "        vertical-align: top;\n",
       "    }\n",
       "\n",
       "    .dataframe thead th {\n",
       "        text-align: right;\n",
       "    }\n",
       "</style>\n",
       "<table border=\"1\" class=\"dataframe\">\n",
       "  <thead>\n",
       "    <tr style=\"text-align: right;\">\n",
       "      <th></th>\n",
       "      <th>prec@10</th>\n",
       "      <th>recall@10</th>\n",
       "      <th>novelty</th>\n",
       "      <th>serendipity</th>\n",
       "    </tr>\n",
       "    <tr>\n",
       "      <th>model</th>\n",
       "      <th></th>\n",
       "      <th></th>\n",
       "      <th></th>\n",
       "      <th></th>\n",
       "    </tr>\n",
       "  </thead>\n",
       "  <tbody>\n",
       "    <tr>\n",
       "      <th>cosine_itemknn</th>\n",
       "      <td>0.000061</td>\n",
       "      <td>0.000538</td>\n",
       "      <td>0.040396</td>\n",
       "      <td>0.000002</td>\n",
       "    </tr>\n",
       "    <tr>\n",
       "      <th>tfidf_itemknn</th>\n",
       "      <td>0.000133</td>\n",
       "      <td>0.001009</td>\n",
       "      <td>0.021175</td>\n",
       "      <td>0.000002</td>\n",
       "    </tr>\n",
       "  </tbody>\n",
       "</table>\n",
       "</div>"
      ],
      "text/plain": [
       "                 prec@10  recall@10   novelty  serendipity\n",
       "model                                                     \n",
       "cosine_itemknn  0.000061   0.000538  0.040396     0.000002\n",
       "tfidf_itemknn   0.000133   0.001009  0.021175     0.000002"
      ]
     },
     "execution_count": 29,
     "metadata": {},
     "output_type": "execute_result"
    }
   ],
   "source": [
    "df_metrics.groupby('model').std()[metrics.keys()]"
   ]
  },
  {
   "cell_type": "code",
   "execution_count": 30,
   "id": "9503f4f2",
   "metadata": {},
   "outputs": [],
   "source": [
    "df = df_metrics.groupby('model').mean()[metrics.keys()]"
   ]
  },
  {
   "cell_type": "code",
   "execution_count": 31,
   "id": "c317442b",
   "metadata": {},
   "outputs": [
    {
     "data": {
      "text/plain": [
       "prec@10       -0.002160\n",
       "recall@10     -0.013087\n",
       "novelty        0.026783\n",
       "serendipity   -0.000013\n",
       "dtype: float64"
      ]
     },
     "execution_count": 31,
     "metadata": {},
     "output_type": "execute_result"
    }
   ],
   "source": [
    "diff = df.loc['cosine_itemknn'] - df.loc['tfidf_itemknn']\n",
    "diff"
   ]
  },
  {
   "cell_type": "markdown",
   "id": "983faaf9",
   "metadata": {},
   "source": [
    "#  userkNN model  CV (2 days)\n",
    "\n",
    "Compare implicit `CosineRecommender` and `TFIDFRecommender` as an ItemKnn base "
   ]
  },
  {
   "cell_type": "code",
   "execution_count": 32,
   "id": "2f7423c5",
   "metadata": {},
   "outputs": [
    {
     "name": "stdout",
     "output_type": "stream",
     "text": [
      "Start date and last date of the test fold: (Timestamp('2021-08-15 00:00:00'), Timestamp('2021-08-22 00:00:00'))\n"
     ]
    }
   ],
   "source": [
    "# setting for cv \n",
    "n_folds = 3\n",
    "unit = \"D\"\n",
    "n_units = 2\n",
    "\n",
    "last_date = interactions[Columns.Datetime].max().normalize()\n",
    "start_date = last_date - pd.Timedelta(n_folds * n_units + 1, unit=unit)  \n",
    "print(f\"Start date and last date of the test fold: {start_date, last_date}\")"
   ]
  },
  {
   "cell_type": "code",
   "execution_count": 33,
   "id": "1342e7d1",
   "metadata": {},
   "outputs": [
    {
     "name": "stdout",
     "output_type": "stream",
     "text": [
      "start_date: 2021-08-15 00:00:00\n",
      "last_date: 2021-08-22 00:00:00\n",
      "periods: 4\n",
      "freq: 2D\n",
      "\n",
      "Test fold borders: ['2021-08-15' '2021-08-17' '2021-08-19' '2021-08-21']\n",
      "Real number of folds: 3\n"
     ]
    }
   ],
   "source": [
    "from rectools.model_selection import TimeRangeSplit\n",
    "\n",
    "periods = n_folds + 1\n",
    "freq = f\"{n_units}{unit}\"\n",
    "print(\n",
    "    f\"start_date: {start_date}\\n\"\n",
    "    f\"last_date: {last_date}\\n\"\n",
    "    f\"periods: {periods}\\n\"\n",
    "    f\"freq: {freq}\\n\"\n",
    ")\n",
    "    \n",
    "date_range = pd.date_range(start=start_date, periods=periods, freq=freq, tz=last_date.tz)\n",
    "print(f\"Test fold borders: {date_range.values.astype('datetime64[D]')}\")\n",
    "\n",
    "# generator of folds\n",
    "cv = TimeRangeSplit(\n",
    "    date_range=date_range,\n",
    "    filter_already_seen=True,\n",
    "    filter_cold_items=True,\n",
    "    filter_cold_users=True,\n",
    ")\n",
    "print(f\"Real number of folds: {cv.get_n_splits(interactions)}\")"
   ]
  },
  {
   "cell_type": "markdown",
   "id": "a49d872c",
   "metadata": {},
   "source": [
    "# Model training by fold (long fold = 2 days)"
   ]
  },
  {
   "cell_type": "code",
   "execution_count": 34,
   "id": "d1a47c03",
   "metadata": {},
   "outputs": [
    {
     "name": "stdout",
     "output_type": "stream",
     "text": [
      "\n",
      "==================== Fold 0\n",
      "{'End date': Timestamp('2021-08-17 00:00:00', freq='2D'),\n",
      " 'Start date': Timestamp('2021-08-15 00:00:00', freq='2D'),\n",
      " 'Test': 94423,\n",
      " 'Test items': 4868,\n",
      " 'Test users': 48702,\n",
      " 'Train': 4985269,\n",
      " 'Train items': 15565,\n",
      " 'Train users': 896791}\n"
     ]
    },
    {
     "data": {
      "application/vnd.jupyter.widget-view+json": {
       "model_id": "072b7e7f71ba4a20980018d48ad9b82e",
       "version_major": 2,
       "version_minor": 0
      },
      "text/plain": [
       "  0%|          | 0/896791 [00:00<?, ?it/s]"
      ]
     },
     "metadata": {},
     "output_type": "display_data"
    },
    {
     "data": {
      "application/vnd.jupyter.widget-view+json": {
       "model_id": "5de7ae20b1de40c49aaa39ae1a8a85a4",
       "version_major": 2,
       "version_minor": 0
      },
      "text/plain": [
       "  0%|          | 0/896791 [00:00<?, ?it/s]"
      ]
     },
     "metadata": {},
     "output_type": "display_data"
    },
    {
     "name": "stdout",
     "output_type": "stream",
     "text": [
      "\n",
      "==================== Fold 1\n",
      "{'End date': Timestamp('2021-08-19 00:00:00', freq='2D'),\n",
      " 'Start date': Timestamp('2021-08-17 00:00:00', freq='2D'),\n",
      " 'Test': 86337,\n",
      " 'Test items': 4821,\n",
      " 'Test users': 45282,\n",
      " 'Train': 5106361,\n",
      " 'Train items': 15589,\n",
      " 'Train users': 913604}\n"
     ]
    },
    {
     "data": {
      "application/vnd.jupyter.widget-view+json": {
       "model_id": "d2e5752a1aa84cd6960c8b2077297244",
       "version_major": 2,
       "version_minor": 0
      },
      "text/plain": [
       "  0%|          | 0/913604 [00:00<?, ?it/s]"
      ]
     },
     "metadata": {},
     "output_type": "display_data"
    },
    {
     "data": {
      "application/vnd.jupyter.widget-view+json": {
       "model_id": "81b83df82e204d95b3b4ddf69b15cead",
       "version_major": 2,
       "version_minor": 0
      },
      "text/plain": [
       "  0%|          | 0/913604 [00:00<?, ?it/s]"
      ]
     },
     "metadata": {},
     "output_type": "display_data"
    },
    {
     "name": "stdout",
     "output_type": "stream",
     "text": [
      "\n",
      "==================== Fold 2\n",
      "{'End date': Timestamp('2021-08-21 00:00:00', freq='2D'),\n",
      " 'Start date': Timestamp('2021-08-19 00:00:00', freq='2D'),\n",
      " 'Test': 93419,\n",
      " 'Test items': 4925,\n",
      " 'Test users': 48683,\n",
      " 'Train': 5217461,\n",
      " 'Train items': 15628,\n",
      " 'Train users': 928207}\n"
     ]
    },
    {
     "data": {
      "application/vnd.jupyter.widget-view+json": {
       "model_id": "df60b5133a4a47be873b9b53dee860e0",
       "version_major": 2,
       "version_minor": 0
      },
      "text/plain": [
       "  0%|          | 0/928207 [00:00<?, ?it/s]"
      ]
     },
     "metadata": {},
     "output_type": "display_data"
    },
    {
     "data": {
      "application/vnd.jupyter.widget-view+json": {
       "model_id": "9e4023aedc8f4382a5da60c2aeadb2b8",
       "version_major": 2,
       "version_minor": 0
      },
      "text/plain": [
       "  0%|          | 0/928207 [00:00<?, ?it/s]"
      ]
     },
     "metadata": {},
     "output_type": "display_data"
    },
    {
     "name": "stdout",
     "output_type": "stream",
     "text": [
      "CPU times: user 1d 20h 18min 49s, sys: 3min 53s, total: 1d 20h 22min 42s\n",
      "Wall time: 4h 29min 11s\n"
     ]
    }
   ],
   "source": [
    "%%time\n",
    "\n",
    "results = []\n",
    "\n",
    "fold_iterator = cv.split(interactions, collect_fold_stats=True)\n",
    "\n",
    "for i_fold, (train_ids, test_ids, fold_info) in enumerate(fold_iterator):\n",
    "    print(f\"\\n==================== Fold {i_fold}\")\n",
    "    pprint(fold_info)\n",
    "\n",
    "    df_train = interactions.iloc[train_ids].copy()\n",
    "    df_test = interactions.iloc[test_ids][Columns.UserItem].copy()\n",
    "\n",
    "    catalog = df_train[Columns.Item].unique()\n",
    "    \n",
    "    for model_name, model in models.items():\n",
    "        userknn_model = UserKnn(model=model, N_users=50)\n",
    "        userknn_model.fit(df_train)\n",
    "    \n",
    "        recos = userknn_model.predict(df_test)\n",
    "    \n",
    "        metric_values = calc_metrics(\n",
    "            metrics,\n",
    "            reco=recos,\n",
    "            interactions=df_test,\n",
    "            prev_interactions=df_train,\n",
    "            catalog=catalog,\n",
    "        )\n",
    "    \n",
    "        fold = {\"fold\": i_fold, \"model\": model_name}\n",
    "        fold.update(metric_values)\n",
    "        results.append(fold)\n",
    "        "
   ]
  },
  {
   "cell_type": "code",
   "execution_count": 35,
   "id": "5823a765",
   "metadata": {},
   "outputs": [
    {
     "data": {
      "text/html": [
       "<div>\n",
       "<style scoped>\n",
       "    .dataframe tbody tr th:only-of-type {\n",
       "        vertical-align: middle;\n",
       "    }\n",
       "\n",
       "    .dataframe tbody tr th {\n",
       "        vertical-align: top;\n",
       "    }\n",
       "\n",
       "    .dataframe thead th {\n",
       "        text-align: right;\n",
       "    }\n",
       "</style>\n",
       "<table border=\"1\" class=\"dataframe\">\n",
       "  <thead>\n",
       "    <tr style=\"text-align: right;\">\n",
       "      <th></th>\n",
       "      <th>fold</th>\n",
       "      <th>model</th>\n",
       "      <th>prec@10</th>\n",
       "      <th>recall@10</th>\n",
       "      <th>novelty</th>\n",
       "      <th>serendipity</th>\n",
       "    </tr>\n",
       "  </thead>\n",
       "  <tbody>\n",
       "    <tr>\n",
       "      <th>0</th>\n",
       "      <td>0</td>\n",
       "      <td>cosine_itemknn</td>\n",
       "      <td>0.002470</td>\n",
       "      <td>0.015899</td>\n",
       "      <td>8.409843</td>\n",
       "      <td>0.000039</td>\n",
       "    </tr>\n",
       "    <tr>\n",
       "      <th>1</th>\n",
       "      <td>0</td>\n",
       "      <td>tfidf_itemknn</td>\n",
       "      <td>0.004447</td>\n",
       "      <td>0.029247</td>\n",
       "      <td>8.359713</td>\n",
       "      <td>0.000052</td>\n",
       "    </tr>\n",
       "    <tr>\n",
       "      <th>2</th>\n",
       "      <td>1</td>\n",
       "      <td>cosine_itemknn</td>\n",
       "      <td>0.002425</td>\n",
       "      <td>0.015732</td>\n",
       "      <td>8.441512</td>\n",
       "      <td>0.000040</td>\n",
       "    </tr>\n",
       "    <tr>\n",
       "      <th>3</th>\n",
       "      <td>1</td>\n",
       "      <td>tfidf_itemknn</td>\n",
       "      <td>0.004260</td>\n",
       "      <td>0.028240</td>\n",
       "      <td>8.409286</td>\n",
       "      <td>0.000052</td>\n",
       "    </tr>\n",
       "    <tr>\n",
       "      <th>4</th>\n",
       "      <td>2</td>\n",
       "      <td>cosine_itemknn</td>\n",
       "      <td>0.002533</td>\n",
       "      <td>0.016571</td>\n",
       "      <td>8.457175</td>\n",
       "      <td>0.000045</td>\n",
       "    </tr>\n",
       "    <tr>\n",
       "      <th>5</th>\n",
       "      <td>2</td>\n",
       "      <td>tfidf_itemknn</td>\n",
       "      <td>0.004217</td>\n",
       "      <td>0.027957</td>\n",
       "      <td>8.438648</td>\n",
       "      <td>0.000052</td>\n",
       "    </tr>\n",
       "  </tbody>\n",
       "</table>\n",
       "</div>"
      ],
      "text/plain": [
       "   fold           model   prec@10  recall@10   novelty  serendipity\n",
       "0     0  cosine_itemknn  0.002470   0.015899  8.409843     0.000039\n",
       "1     0   tfidf_itemknn  0.004447   0.029247  8.359713     0.000052\n",
       "2     1  cosine_itemknn  0.002425   0.015732  8.441512     0.000040\n",
       "3     1   tfidf_itemknn  0.004260   0.028240  8.409286     0.000052\n",
       "4     2  cosine_itemknn  0.002533   0.016571  8.457175     0.000045\n",
       "5     2   tfidf_itemknn  0.004217   0.027957  8.438648     0.000052"
      ]
     },
     "execution_count": 35,
     "metadata": {},
     "output_type": "execute_result"
    }
   ],
   "source": [
    "df_metrics = pd.DataFrame(results)\n",
    "df_metrics"
   ]
  },
  {
   "cell_type": "code",
   "execution_count": 36,
   "id": "25b8bc11",
   "metadata": {},
   "outputs": [],
   "source": [
    "df_metrics.to_pickle(\"df_metrics.pickle\")"
   ]
  },
  {
   "cell_type": "code",
   "execution_count": 37,
   "id": "0c775a79",
   "metadata": {},
   "outputs": [
    {
     "data": {
      "text/html": [
       "<div>\n",
       "<style scoped>\n",
       "    .dataframe tbody tr th:only-of-type {\n",
       "        vertical-align: middle;\n",
       "    }\n",
       "\n",
       "    .dataframe tbody tr th {\n",
       "        vertical-align: top;\n",
       "    }\n",
       "\n",
       "    .dataframe thead th {\n",
       "        text-align: right;\n",
       "    }\n",
       "</style>\n",
       "<table border=\"1\" class=\"dataframe\">\n",
       "  <thead>\n",
       "    <tr style=\"text-align: right;\">\n",
       "      <th></th>\n",
       "      <th>prec@10</th>\n",
       "      <th>recall@10</th>\n",
       "      <th>novelty</th>\n",
       "      <th>serendipity</th>\n",
       "    </tr>\n",
       "    <tr>\n",
       "      <th>model</th>\n",
       "      <th></th>\n",
       "      <th></th>\n",
       "      <th></th>\n",
       "      <th></th>\n",
       "    </tr>\n",
       "  </thead>\n",
       "  <tbody>\n",
       "    <tr>\n",
       "      <th>cosine_itemknn</th>\n",
       "      <td>0.002476</td>\n",
       "      <td>0.016067</td>\n",
       "      <td>8.436177</td>\n",
       "      <td>0.000042</td>\n",
       "    </tr>\n",
       "    <tr>\n",
       "      <th>tfidf_itemknn</th>\n",
       "      <td>0.004308</td>\n",
       "      <td>0.028481</td>\n",
       "      <td>8.402549</td>\n",
       "      <td>0.000052</td>\n",
       "    </tr>\n",
       "  </tbody>\n",
       "</table>\n",
       "</div>"
      ],
      "text/plain": [
       "                 prec@10  recall@10   novelty  serendipity\n",
       "model                                                     \n",
       "cosine_itemknn  0.002476   0.016067  8.436177     0.000042\n",
       "tfidf_itemknn   0.004308   0.028481  8.402549     0.000052"
      ]
     },
     "execution_count": 37,
     "metadata": {},
     "output_type": "execute_result"
    }
   ],
   "source": [
    "df_metrics.groupby('model').mean()[metrics.keys()]"
   ]
  },
  {
   "cell_type": "code",
   "execution_count": 38,
   "id": "4ec6c0b3",
   "metadata": {},
   "outputs": [
    {
     "data": {
      "text/html": [
       "<div>\n",
       "<style scoped>\n",
       "    .dataframe tbody tr th:only-of-type {\n",
       "        vertical-align: middle;\n",
       "    }\n",
       "\n",
       "    .dataframe tbody tr th {\n",
       "        vertical-align: top;\n",
       "    }\n",
       "\n",
       "    .dataframe thead th {\n",
       "        text-align: right;\n",
       "    }\n",
       "</style>\n",
       "<table border=\"1\" class=\"dataframe\">\n",
       "  <thead>\n",
       "    <tr style=\"text-align: right;\">\n",
       "      <th></th>\n",
       "      <th>prec@10</th>\n",
       "      <th>recall@10</th>\n",
       "      <th>novelty</th>\n",
       "      <th>serendipity</th>\n",
       "    </tr>\n",
       "    <tr>\n",
       "      <th>model</th>\n",
       "      <th></th>\n",
       "      <th></th>\n",
       "      <th></th>\n",
       "      <th></th>\n",
       "    </tr>\n",
       "  </thead>\n",
       "  <tbody>\n",
       "    <tr>\n",
       "      <th>cosine_itemknn</th>\n",
       "      <td>0.000054</td>\n",
       "      <td>0.000444</td>\n",
       "      <td>0.024113</td>\n",
       "      <td>3.125663e-06</td>\n",
       "    </tr>\n",
       "    <tr>\n",
       "      <th>tfidf_itemknn</th>\n",
       "      <td>0.000123</td>\n",
       "      <td>0.000678</td>\n",
       "      <td>0.039896</td>\n",
       "      <td>3.889944e-07</td>\n",
       "    </tr>\n",
       "  </tbody>\n",
       "</table>\n",
       "</div>"
      ],
      "text/plain": [
       "                 prec@10  recall@10   novelty   serendipity\n",
       "model                                                      \n",
       "cosine_itemknn  0.000054   0.000444  0.024113  3.125663e-06\n",
       "tfidf_itemknn   0.000123   0.000678  0.039896  3.889944e-07"
      ]
     },
     "execution_count": 38,
     "metadata": {},
     "output_type": "execute_result"
    }
   ],
   "source": [
    "df_metrics.groupby('model').std()[metrics.keys()]"
   ]
  },
  {
   "cell_type": "code",
   "execution_count": 39,
   "id": "32ef888d",
   "metadata": {},
   "outputs": [],
   "source": [
    "df = df_metrics.groupby('model').mean()[metrics.keys()]"
   ]
  },
  {
   "cell_type": "code",
   "execution_count": 40,
   "id": "f23ef500",
   "metadata": {},
   "outputs": [
    {
     "data": {
      "text/plain": [
       "prec@10       -0.001832\n",
       "recall@10     -0.012414\n",
       "novelty        0.033628\n",
       "serendipity   -0.000010\n",
       "dtype: float64"
      ]
     },
     "execution_count": 40,
     "metadata": {},
     "output_type": "execute_result"
    }
   ],
   "source": [
    "diff = df.loc['cosine_itemknn'] - df.loc['tfidf_itemknn']\n",
    "diff"
   ]
  },
  {
   "cell_type": "markdown",
   "id": "f96ec88e",
   "metadata": {},
   "source": [
    "# Comparison"
   ]
  },
  {
   "cell_type": "code",
   "execution_count": 29,
   "id": "f09e2438",
   "metadata": {},
   "outputs": [
    {
     "data": {
      "text/html": [
       "<div>\n",
       "<style scoped>\n",
       "    .dataframe tbody tr th:only-of-type {\n",
       "        vertical-align: middle;\n",
       "    }\n",
       "\n",
       "    .dataframe tbody tr th {\n",
       "        vertical-align: top;\n",
       "    }\n",
       "\n",
       "    .dataframe thead th {\n",
       "        text-align: right;\n",
       "    }\n",
       "</style>\n",
       "<table border=\"1\" class=\"dataframe\">\n",
       "  <thead>\n",
       "    <tr style=\"text-align: right;\">\n",
       "      <th></th>\n",
       "      <th>fold</th>\n",
       "      <th>model</th>\n",
       "      <th>prec@10</th>\n",
       "      <th>recall@10</th>\n",
       "      <th>novelty</th>\n",
       "      <th>serendipity</th>\n",
       "    </tr>\n",
       "  </thead>\n",
       "  <tbody>\n",
       "    <tr>\n",
       "      <th>0</th>\n",
       "      <td>0</td>\n",
       "      <td>cosine_itemknn</td>\n",
       "      <td>0.002922</td>\n",
       "      <td>0.014984</td>\n",
       "      <td>9.260631</td>\n",
       "      <td>0.000038</td>\n",
       "    </tr>\n",
       "    <tr>\n",
       "      <th>1</th>\n",
       "      <td>0</td>\n",
       "      <td>tfidf_itemknn</td>\n",
       "      <td>0.004639</td>\n",
       "      <td>0.024704</td>\n",
       "      <td>8.321053</td>\n",
       "      <td>0.000039</td>\n",
       "    </tr>\n",
       "    <tr>\n",
       "      <th>2</th>\n",
       "      <td>1</td>\n",
       "      <td>cosine_itemknn</td>\n",
       "      <td>0.003003</td>\n",
       "      <td>0.015476</td>\n",
       "      <td>9.358990</td>\n",
       "      <td>0.000049</td>\n",
       "    </tr>\n",
       "    <tr>\n",
       "      <th>3</th>\n",
       "      <td>1</td>\n",
       "      <td>tfidf_itemknn</td>\n",
       "      <td>0.004590</td>\n",
       "      <td>0.024952</td>\n",
       "      <td>8.381346</td>\n",
       "      <td>0.000047</td>\n",
       "    </tr>\n",
       "    <tr>\n",
       "      <th>4</th>\n",
       "      <td>2</td>\n",
       "      <td>cosine_itemknn</td>\n",
       "      <td>0.002793</td>\n",
       "      <td>0.014482</td>\n",
       "      <td>9.503543</td>\n",
       "      <td>0.000053</td>\n",
       "    </tr>\n",
       "    <tr>\n",
       "      <th>5</th>\n",
       "      <td>2</td>\n",
       "      <td>tfidf_itemknn</td>\n",
       "      <td>0.004015</td>\n",
       "      <td>0.021479</td>\n",
       "      <td>8.513031</td>\n",
       "      <td>0.000051</td>\n",
       "    </tr>\n",
       "    <tr>\n",
       "      <th>6</th>\n",
       "      <td>3</td>\n",
       "      <td>cosine_itemknn</td>\n",
       "      <td>0.002605</td>\n",
       "      <td>0.013047</td>\n",
       "      <td>9.595365</td>\n",
       "      <td>0.000052</td>\n",
       "    </tr>\n",
       "    <tr>\n",
       "      <th>7</th>\n",
       "      <td>3</td>\n",
       "      <td>tfidf_itemknn</td>\n",
       "      <td>0.004076</td>\n",
       "      <td>0.020768</td>\n",
       "      <td>8.612428</td>\n",
       "      <td>0.000057</td>\n",
       "    </tr>\n",
       "    <tr>\n",
       "      <th>8</th>\n",
       "      <td>4</td>\n",
       "      <td>cosine_itemknn</td>\n",
       "      <td>0.002469</td>\n",
       "      <td>0.011693</td>\n",
       "      <td>9.624027</td>\n",
       "      <td>0.000057</td>\n",
       "    </tr>\n",
       "    <tr>\n",
       "      <th>9</th>\n",
       "      <td>4</td>\n",
       "      <td>tfidf_itemknn</td>\n",
       "      <td>0.003720</td>\n",
       "      <td>0.018538</td>\n",
       "      <td>8.647398</td>\n",
       "      <td>0.000058</td>\n",
       "    </tr>\n",
       "    <tr>\n",
       "      <th>10</th>\n",
       "      <td>5</td>\n",
       "      <td>cosine_itemknn</td>\n",
       "      <td>0.002415</td>\n",
       "      <td>0.011502</td>\n",
       "      <td>9.634881</td>\n",
       "      <td>0.000057</td>\n",
       "    </tr>\n",
       "    <tr>\n",
       "      <th>11</th>\n",
       "      <td>5</td>\n",
       "      <td>tfidf_itemknn</td>\n",
       "      <td>0.003637</td>\n",
       "      <td>0.018502</td>\n",
       "      <td>8.644493</td>\n",
       "      <td>0.000055</td>\n",
       "    </tr>\n",
       "    <tr>\n",
       "      <th>12</th>\n",
       "      <td>6</td>\n",
       "      <td>cosine_itemknn</td>\n",
       "      <td>0.002424</td>\n",
       "      <td>0.011187</td>\n",
       "      <td>9.715327</td>\n",
       "      <td>0.000064</td>\n",
       "    </tr>\n",
       "    <tr>\n",
       "      <th>13</th>\n",
       "      <td>6</td>\n",
       "      <td>tfidf_itemknn</td>\n",
       "      <td>0.003612</td>\n",
       "      <td>0.017961</td>\n",
       "      <td>8.695295</td>\n",
       "      <td>0.000059</td>\n",
       "    </tr>\n",
       "  </tbody>\n",
       "</table>\n",
       "</div>"
      ],
      "text/plain": [
       "    fold           model   prec@10  recall@10   novelty  serendipity\n",
       "0      0  cosine_itemknn  0.002922   0.014984  9.260631     0.000038\n",
       "1      0   tfidf_itemknn  0.004639   0.024704  8.321053     0.000039\n",
       "2      1  cosine_itemknn  0.003003   0.015476  9.358990     0.000049\n",
       "3      1   tfidf_itemknn  0.004590   0.024952  8.381346     0.000047\n",
       "4      2  cosine_itemknn  0.002793   0.014482  9.503543     0.000053\n",
       "5      2   tfidf_itemknn  0.004015   0.021479  8.513031     0.000051\n",
       "6      3  cosine_itemknn  0.002605   0.013047  9.595365     0.000052\n",
       "7      3   tfidf_itemknn  0.004076   0.020768  8.612428     0.000057\n",
       "8      4  cosine_itemknn  0.002469   0.011693  9.624027     0.000057\n",
       "9      4   tfidf_itemknn  0.003720   0.018538  8.647398     0.000058\n",
       "10     5  cosine_itemknn  0.002415   0.011502  9.634881     0.000057\n",
       "11     5   tfidf_itemknn  0.003637   0.018502  8.644493     0.000055\n",
       "12     6  cosine_itemknn  0.002424   0.011187  9.715327     0.000064\n",
       "13     6   tfidf_itemknn  0.003612   0.017961  8.695295     0.000059"
      ]
     },
     "execution_count": 29,
     "metadata": {},
     "output_type": "execute_result"
    }
   ],
   "source": [
    "# 7 days, 7 folds\n",
    "df_metrics = pd.DataFrame(results)\n",
    "df_metrics"
   ]
  },
  {
   "cell_type": "code",
   "execution_count": 26,
   "id": "06df2a52",
   "metadata": {},
   "outputs": [
    {
     "data": {
      "text/html": [
       "<div>\n",
       "<style scoped>\n",
       "    .dataframe tbody tr th:only-of-type {\n",
       "        vertical-align: middle;\n",
       "    }\n",
       "\n",
       "    .dataframe tbody tr th {\n",
       "        vertical-align: top;\n",
       "    }\n",
       "\n",
       "    .dataframe thead th {\n",
       "        text-align: right;\n",
       "    }\n",
       "</style>\n",
       "<table border=\"1\" class=\"dataframe\">\n",
       "  <thead>\n",
       "    <tr style=\"text-align: right;\">\n",
       "      <th></th>\n",
       "      <th>fold</th>\n",
       "      <th>model</th>\n",
       "      <th>prec@10</th>\n",
       "      <th>recall@10</th>\n",
       "      <th>novelty</th>\n",
       "      <th>serendipity</th>\n",
       "    </tr>\n",
       "  </thead>\n",
       "  <tbody>\n",
       "    <tr>\n",
       "      <th>0</th>\n",
       "      <td>0</td>\n",
       "      <td>cosine_itemknn</td>\n",
       "      <td>0.002912</td>\n",
       "      <td>0.016831</td>\n",
       "      <td>8.264488</td>\n",
       "      <td>0.000042</td>\n",
       "    </tr>\n",
       "    <tr>\n",
       "      <th>1</th>\n",
       "      <td>0</td>\n",
       "      <td>tfidf_itemknn</td>\n",
       "      <td>0.005143</td>\n",
       "      <td>0.030107</td>\n",
       "      <td>8.255900</td>\n",
       "      <td>0.000057</td>\n",
       "    </tr>\n",
       "    <tr>\n",
       "      <th>2</th>\n",
       "      <td>1</td>\n",
       "      <td>cosine_itemknn</td>\n",
       "      <td>0.002912</td>\n",
       "      <td>0.016824</td>\n",
       "      <td>8.311312</td>\n",
       "      <td>0.000042</td>\n",
       "    </tr>\n",
       "    <tr>\n",
       "      <th>3</th>\n",
       "      <td>1</td>\n",
       "      <td>tfidf_itemknn</td>\n",
       "      <td>0.005080</td>\n",
       "      <td>0.030262</td>\n",
       "      <td>8.289351</td>\n",
       "      <td>0.000053</td>\n",
       "    </tr>\n",
       "    <tr>\n",
       "      <th>4</th>\n",
       "      <td>2</td>\n",
       "      <td>cosine_itemknn</td>\n",
       "      <td>0.002807</td>\n",
       "      <td>0.015895</td>\n",
       "      <td>8.344919</td>\n",
       "      <td>0.000045</td>\n",
       "    </tr>\n",
       "    <tr>\n",
       "      <th>5</th>\n",
       "      <td>2</td>\n",
       "      <td>tfidf_itemknn</td>\n",
       "      <td>0.004888</td>\n",
       "      <td>0.028442</td>\n",
       "      <td>8.295118</td>\n",
       "      <td>0.000057</td>\n",
       "    </tr>\n",
       "  </tbody>\n",
       "</table>\n",
       "</div>"
      ],
      "text/plain": [
       "   fold           model   prec@10  recall@10   novelty  serendipity\n",
       "0     0  cosine_itemknn  0.002912   0.016831  8.264488     0.000042\n",
       "1     0   tfidf_itemknn  0.005143   0.030107  8.255900     0.000057\n",
       "2     1  cosine_itemknn  0.002912   0.016824  8.311312     0.000042\n",
       "3     1   tfidf_itemknn  0.005080   0.030262  8.289351     0.000053\n",
       "4     2  cosine_itemknn  0.002807   0.015895  8.344919     0.000045\n",
       "5     2   tfidf_itemknn  0.004888   0.028442  8.295118     0.000057"
      ]
     },
     "execution_count": 26,
     "metadata": {},
     "output_type": "execute_result"
    }
   ],
   "source": [
    "# 4 days, 3 folds\n",
    "df_metrics = pd.DataFrame(results)\n",
    "df_metrics"
   ]
  },
  {
   "cell_type": "code",
   "execution_count": 35,
   "id": "21d4aadd",
   "metadata": {},
   "outputs": [
    {
     "data": {
      "text/html": [
       "<div>\n",
       "<style scoped>\n",
       "    .dataframe tbody tr th:only-of-type {\n",
       "        vertical-align: middle;\n",
       "    }\n",
       "\n",
       "    .dataframe tbody tr th {\n",
       "        vertical-align: top;\n",
       "    }\n",
       "\n",
       "    .dataframe thead th {\n",
       "        text-align: right;\n",
       "    }\n",
       "</style>\n",
       "<table border=\"1\" class=\"dataframe\">\n",
       "  <thead>\n",
       "    <tr style=\"text-align: right;\">\n",
       "      <th></th>\n",
       "      <th>fold</th>\n",
       "      <th>model</th>\n",
       "      <th>prec@10</th>\n",
       "      <th>recall@10</th>\n",
       "      <th>novelty</th>\n",
       "      <th>serendipity</th>\n",
       "    </tr>\n",
       "  </thead>\n",
       "  <tbody>\n",
       "    <tr>\n",
       "      <th>0</th>\n",
       "      <td>0</td>\n",
       "      <td>cosine_itemknn</td>\n",
       "      <td>0.002470</td>\n",
       "      <td>0.015899</td>\n",
       "      <td>8.409843</td>\n",
       "      <td>0.000039</td>\n",
       "    </tr>\n",
       "    <tr>\n",
       "      <th>1</th>\n",
       "      <td>0</td>\n",
       "      <td>tfidf_itemknn</td>\n",
       "      <td>0.004447</td>\n",
       "      <td>0.029247</td>\n",
       "      <td>8.359713</td>\n",
       "      <td>0.000052</td>\n",
       "    </tr>\n",
       "    <tr>\n",
       "      <th>2</th>\n",
       "      <td>1</td>\n",
       "      <td>cosine_itemknn</td>\n",
       "      <td>0.002425</td>\n",
       "      <td>0.015732</td>\n",
       "      <td>8.441512</td>\n",
       "      <td>0.000040</td>\n",
       "    </tr>\n",
       "    <tr>\n",
       "      <th>3</th>\n",
       "      <td>1</td>\n",
       "      <td>tfidf_itemknn</td>\n",
       "      <td>0.004260</td>\n",
       "      <td>0.028240</td>\n",
       "      <td>8.409286</td>\n",
       "      <td>0.000052</td>\n",
       "    </tr>\n",
       "    <tr>\n",
       "      <th>4</th>\n",
       "      <td>2</td>\n",
       "      <td>cosine_itemknn</td>\n",
       "      <td>0.002533</td>\n",
       "      <td>0.016571</td>\n",
       "      <td>8.457175</td>\n",
       "      <td>0.000045</td>\n",
       "    </tr>\n",
       "    <tr>\n",
       "      <th>5</th>\n",
       "      <td>2</td>\n",
       "      <td>tfidf_itemknn</td>\n",
       "      <td>0.004217</td>\n",
       "      <td>0.027957</td>\n",
       "      <td>8.438648</td>\n",
       "      <td>0.000052</td>\n",
       "    </tr>\n",
       "  </tbody>\n",
       "</table>\n",
       "</div>"
      ],
      "text/plain": [
       "   fold           model   prec@10  recall@10   novelty  serendipity\n",
       "0     0  cosine_itemknn  0.002470   0.015899  8.409843     0.000039\n",
       "1     0   tfidf_itemknn  0.004447   0.029247  8.359713     0.000052\n",
       "2     1  cosine_itemknn  0.002425   0.015732  8.441512     0.000040\n",
       "3     1   tfidf_itemknn  0.004260   0.028240  8.409286     0.000052\n",
       "4     2  cosine_itemknn  0.002533   0.016571  8.457175     0.000045\n",
       "5     2   tfidf_itemknn  0.004217   0.027957  8.438648     0.000052"
      ]
     },
     "execution_count": 35,
     "metadata": {},
     "output_type": "execute_result"
    }
   ],
   "source": [
    "# 2 days, 3 folds\n",
    "df_metrics = pd.DataFrame(results)\n",
    "df_metrics"
   ]
  },
  {
   "cell_type": "markdown",
   "id": "96d54c99",
   "metadata": {},
   "source": [
    "# Results\n",
    "\n",
    "The best fold is 0 with a fold length of 4 days and tfidf_itemknn\n",
    "\n",
    "`prec@10` = 0.005143\n",
    "`recall@10` = 0.030107\n",
    "`novelty` = 8.255900\n",
    "`serendipity` = 0.000057\n",
    "\n",
    "This variant has the highest prec@10 and recall@10, but relatively low novelty. However, since userkNN will blend in with the popular model, novelty will be low anyway.\n",
    "\n",
    "With validation: test = 1 last week  `map@10` = 0.0826746\n",
    "With validation: test = 4 days from (last_date - 12 days)  `map@10` = 0.0848538\n"
   ]
  },
  {
   "cell_type": "code",
   "execution_count": null,
   "id": "d20c233e",
   "metadata": {},
   "outputs": [],
   "source": []
  }
 ],
 "metadata": {
  "kernelspec": {
   "display_name": "Python 3 (ipykernel)",
   "language": "python",
   "name": "python3"
  },
  "language_info": {
   "codemirror_mode": {
    "name": "ipython",
    "version": 3
   },
   "file_extension": ".py",
   "mimetype": "text/x-python",
   "name": "python",
   "nbconvert_exporter": "python",
   "pygments_lexer": "ipython3",
   "version": "3.8.10"
  }
 },
 "nbformat": 4,
 "nbformat_minor": 5
}
