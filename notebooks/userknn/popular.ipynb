{
 "cells": [
  {
   "cell_type": "code",
   "execution_count": 1,
   "id": "0e16c6a4",
   "metadata": {
    "pycharm": {
     "is_executing": true
    }
   },
   "outputs": [
    {
     "name": "stdout",
     "output_type": "stream",
     "text": [
      "/home/kirill/PycharmProjects/pythonProject/RecoServiceTemplate\n"
     ]
    }
   ],
   "source": [
    "%cd ../.."
   ]
  },
  {
   "cell_type": "code",
   "execution_count": null,
   "id": "cc081a8b",
   "metadata": {
    "pycharm": {
     "is_executing": true
    }
   },
   "outputs": [],
   "source": [
    "import pandas as pd\n",
    "from implicit.nearest_neighbours import CosineRecommender\n",
    "from rectools.dataset import Dataset\n",
    "from rectools import Columns\n",
    "from rectools.models.popular import PopularModel\n",
    "from models.userknn.userknn import UserKnn\n",
    "from rectools.model_selection import TimeRangeSplit\n",
    "from models.config import UserKnn_model, Popular_model"
   ]
  },
  {
   "cell_type": "code",
   "execution_count": 8,
   "id": "90c1e93a",
   "metadata": {},
   "outputs": [],
   "source": [
    "# Train model flag\n",
    "RETRAIN = False"
   ]
  },
  {
   "cell_type": "markdown",
   "id": "5d8d97c1",
   "metadata": {},
   "source": [
    "# Get KION dataset"
   ]
  },
  {
   "cell_type": "code",
   "execution_count": 9,
   "id": "ffbd5175",
   "metadata": {},
   "outputs": [],
   "source": [
    "interactions = pd.read_csv('{0}/interactions.csv'.format(UserKnn_model.dataset_path))\n",
    "users = pd.read_csv('{0}/users.csv'.format(UserKnn_model.dataset_path))\n",
    "items = pd.read_csv('{0}/items.csv'.format(UserKnn_model.dataset_path))"
   ]
  },
  {
   "cell_type": "code",
   "execution_count": 10,
   "id": "94a5a1d9",
   "metadata": {},
   "outputs": [],
   "source": [
    "# rename columns, convert timestamp\n",
    "interactions.rename(columns={'last_watch_dt': Columns.Datetime,\n",
    "                            'total_dur': Columns.Weight},\n",
    "                    inplace=True)\n",
    "\n",
    "interactions['datetime'] = pd.to_datetime(interactions['datetime'])"
   ]
  },
  {
   "cell_type": "code",
   "execution_count": 11,
   "id": "03f8de15",
   "metadata": {},
   "outputs": [],
   "source": [
    "dataset = Dataset.construct(\n",
    "            interactions_df=interactions,\n",
    "            user_features_df=None,\n",
    "            item_features_df=None,\n",
    "        )"
   ]
  },
  {
   "cell_type": "markdown",
   "id": "49e76f5d",
   "metadata": {},
   "source": [
    "# Fit Popular model"
   ]
  },
  {
   "cell_type": "code",
   "execution_count": 12,
   "id": "3ed80386",
   "metadata": {},
   "outputs": [
    {
     "data": {
      "text/plain": [
       "<rectools.models.popular.PopularModel at 0x7f2d97a412b0>"
      ]
     },
     "execution_count": 12,
     "metadata": {},
     "output_type": "execute_result"
    }
   ],
   "source": [
    "pop = PopularModel()\n",
    "pop.fit(dataset)"
   ]
  },
  {
   "cell_type": "markdown",
   "id": "54d064d5",
   "metadata": {},
   "source": [
    "# Get recomendations"
   ]
  },
  {
   "cell_type": "code",
   "execution_count": 15,
   "id": "47cfa828",
   "metadata": {},
   "outputs": [
    {
     "data": {
      "text/html": [
       "<div>\n",
       "<style scoped>\n",
       "    .dataframe tbody tr th:only-of-type {\n",
       "        vertical-align: middle;\n",
       "    }\n",
       "\n",
       "    .dataframe tbody tr th {\n",
       "        vertical-align: top;\n",
       "    }\n",
       "\n",
       "    .dataframe thead th {\n",
       "        text-align: right;\n",
       "    }\n",
       "</style>\n",
       "<table border=\"1\" class=\"dataframe\">\n",
       "  <thead>\n",
       "    <tr style=\"text-align: right;\">\n",
       "      <th></th>\n",
       "      <th>user_id</th>\n",
       "      <th>item_id</th>\n",
       "      <th>score</th>\n",
       "      <th>rank</th>\n",
       "    </tr>\n",
       "  </thead>\n",
       "  <tbody>\n",
       "    <tr>\n",
       "      <th>0</th>\n",
       "      <td>0</td>\n",
       "      <td>10440</td>\n",
       "      <td>202457.0</td>\n",
       "      <td>1</td>\n",
       "    </tr>\n",
       "    <tr>\n",
       "      <th>1</th>\n",
       "      <td>0</td>\n",
       "      <td>15297</td>\n",
       "      <td>193123.0</td>\n",
       "      <td>2</td>\n",
       "    </tr>\n",
       "    <tr>\n",
       "      <th>2</th>\n",
       "      <td>0</td>\n",
       "      <td>9728</td>\n",
       "      <td>132865.0</td>\n",
       "      <td>3</td>\n",
       "    </tr>\n",
       "    <tr>\n",
       "      <th>3</th>\n",
       "      <td>0</td>\n",
       "      <td>13865</td>\n",
       "      <td>122119.0</td>\n",
       "      <td>4</td>\n",
       "    </tr>\n",
       "    <tr>\n",
       "      <th>4</th>\n",
       "      <td>0</td>\n",
       "      <td>4151</td>\n",
       "      <td>91167.0</td>\n",
       "      <td>5</td>\n",
       "    </tr>\n",
       "    <tr>\n",
       "      <th>5</th>\n",
       "      <td>0</td>\n",
       "      <td>3734</td>\n",
       "      <td>74803.0</td>\n",
       "      <td>6</td>\n",
       "    </tr>\n",
       "    <tr>\n",
       "      <th>6</th>\n",
       "      <td>0</td>\n",
       "      <td>2657</td>\n",
       "      <td>68581.0</td>\n",
       "      <td>7</td>\n",
       "    </tr>\n",
       "    <tr>\n",
       "      <th>7</th>\n",
       "      <td>0</td>\n",
       "      <td>4880</td>\n",
       "      <td>55043.0</td>\n",
       "      <td>8</td>\n",
       "    </tr>\n",
       "    <tr>\n",
       "      <th>8</th>\n",
       "      <td>0</td>\n",
       "      <td>142</td>\n",
       "      <td>45367.0</td>\n",
       "      <td>9</td>\n",
       "    </tr>\n",
       "    <tr>\n",
       "      <th>9</th>\n",
       "      <td>0</td>\n",
       "      <td>6809</td>\n",
       "      <td>40372.0</td>\n",
       "      <td>10</td>\n",
       "    </tr>\n",
       "  </tbody>\n",
       "</table>\n",
       "</div>"
      ],
      "text/plain": [
       "   user_id  item_id     score  rank\n",
       "0        0    10440  202457.0     1\n",
       "1        0    15297  193123.0     2\n",
       "2        0     9728  132865.0     3\n",
       "3        0    13865  122119.0     4\n",
       "4        0     4151   91167.0     5\n",
       "5        0     3734   74803.0     6\n",
       "6        0     2657   68581.0     7\n",
       "7        0     4880   55043.0     8\n",
       "8        0      142   45367.0     9\n",
       "9        0     6809   40372.0    10"
      ]
     },
     "execution_count": 15,
     "metadata": {},
     "output_type": "execute_result"
    }
   ],
   "source": [
    "popular_reco_df = pop.recommend(\n",
    "    dataset.user_id_map.external_ids[:1],\n",
    "    dataset=dataset,\n",
    "    k=Popular_model.N_recs,\n",
    "    filter_viewed=False  # True - throw away some items for each user\n",
    ")"
   ]
  },
  {
   "cell_type": "markdown",
   "id": "327bf598",
   "metadata": {},
   "source": [
    "# Save recomendations df"
   ]
  },
  {
   "cell_type": "code",
   "execution_count": 14,
   "id": "09de5edb",
   "metadata": {},
   "outputs": [],
   "source": [
    "popular_reco_df.to_csv(Popular_model.save_reco_df_path,\n",
    "                       encoding='utf-8', index=False)"
   ]
  }
 ],
 "metadata": {
  "kernelspec": {
   "display_name": "Python 3 (ipykernel)",
   "language": "python",
   "name": "python3"
  },
  "language_info": {
   "codemirror_mode": {
    "name": "ipython",
    "version": 3
   },
   "file_extension": ".py",
   "mimetype": "text/x-python",
   "name": "python",
   "nbconvert_exporter": "python",
   "pygments_lexer": "ipython3",
   "version": "3.8.10"
  }
 },
 "nbformat": 4,
 "nbformat_minor": 5
}
