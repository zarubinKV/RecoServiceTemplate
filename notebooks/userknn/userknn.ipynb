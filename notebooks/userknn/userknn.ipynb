{
 "cells": [
  {
   "cell_type": "code",
   "execution_count": 1,
   "id": "0e16c6a4",
   "metadata": {
    "pycharm": {
     "is_executing": true
    }
   },
   "outputs": [
    {
     "name": "stdout",
     "output_type": "stream",
     "text": [
      "/home/kirill/PycharmProjects/pythonProject/RecoServiceTemplate\n"
     ]
    }
   ],
   "source": [
    "%cd ../.."
   ]
  },
  {
   "cell_type": "code",
   "execution_count": 2,
   "id": "cc081a8b",
   "metadata": {},
   "outputs": [],
   "source": [
    "import pandas as pd\n",
    "from implicit.nearest_neighbours import CosineRecommender, TFIDFRecommender\n",
    "from rectools.dataset import Dataset\n",
    "from rectools import Columns\n",
    "from rectools.models.popular import PopularModel\n",
    "from models.userknn.userknn import UserKnn\n",
    "from rectools.model_selection import TimeRangeSplit\n",
    "from models.config import UserKnn_model"
   ]
  },
  {
   "cell_type": "code",
   "execution_count": 3,
   "id": "90c1e93a",
   "metadata": {},
   "outputs": [],
   "source": [
    "# Train model flag\n",
    "RETRAIN = True"
   ]
  },
  {
   "cell_type": "markdown",
   "id": "5d8d97c1",
   "metadata": {},
   "source": [
    "# Get KION dataset"
   ]
  },
  {
   "cell_type": "code",
   "execution_count": 4,
   "id": "ffbd5175",
   "metadata": {},
   "outputs": [],
   "source": [
    "interactions = pd.read_csv('{0}/interactions.csv'.format(UserKnn_model.dataset_path))\n",
    "users = pd.read_csv('{0}/users.csv'.format(UserKnn_model.dataset_path))\n",
    "items = pd.read_csv('{0}/items.csv'.format(UserKnn_model.dataset_path))"
   ]
  },
  {
   "cell_type": "code",
   "execution_count": 5,
   "id": "94a5a1d9",
   "metadata": {},
   "outputs": [],
   "source": [
    "# rename columns, convert timestamp\n",
    "interactions.rename(columns={'last_watch_dt': Columns.Datetime,\n",
    "                            'total_dur': Columns.Weight},\n",
    "                    inplace=True)\n",
    "\n",
    "interactions['datetime'] = pd.to_datetime(interactions['datetime'])"
   ]
  },
  {
   "cell_type": "code",
   "execution_count": 6,
   "id": "3cc40131",
   "metadata": {},
   "outputs": [],
   "source": [
    "max_date = interactions['datetime'].max()\n",
    "min_date = interactions['datetime'].min()"
   ]
  },
  {
   "cell_type": "markdown",
   "id": "dc128cf3",
   "metadata": {},
   "source": [
    "# From `itemkNN` to `userkNN `"
   ]
  },
  {
   "cell_type": "code",
   "execution_count": 7,
   "id": "5f70ff78",
   "metadata": {},
   "outputs": [],
   "source": [
    "n_folds = 3\n",
    "unit = \"D\"\n",
    "n_units = 4\n",
    "periods = 2\n",
    "freq = f\"{n_units}{unit}\"\n",
    "last_date = interactions[Columns.Datetime].max().normalize()\n",
    "start_date = last_date - pd.Timedelta(n_folds * n_units + 1, unit=unit)\n",
    "\n",
    "date_range = pd.date_range(start=start_date, periods=periods, freq=freq,\n",
    "                           tz=last_date.tz)\n",
    "# generator of folds\n",
    "cv = TimeRangeSplit(\n",
    "    date_range=date_range,\n",
    "    filter_already_seen=True,\n",
    "    filter_cold_items=True,\n",
    "    filter_cold_users=True,\n",
    ")"
   ]
  },
  {
   "cell_type": "code",
   "execution_count": 8,
   "id": "315f209c",
   "metadata": {},
   "outputs": [],
   "source": [
    "# we have just 1 test fold - no need to iterate over fold\n",
    "(train_ids, test_ids, fold_info) = cv.split(interactions, collect_fold_stats=True).__next__()"
   ]
  },
  {
   "cell_type": "markdown",
   "id": "567adfe4",
   "metadata": {},
   "source": [
    "# Fit userKNN model"
   ]
  },
  {
   "cell_type": "code",
   "execution_count": 9,
   "id": "b62c301e",
   "metadata": {},
   "outputs": [],
   "source": [
    "train = interactions.loc[train_ids]\n",
    "test = interactions.loc[test_ids]"
   ]
  },
  {
   "cell_type": "code",
   "execution_count": 10,
   "id": "87c09ac2",
   "metadata": {},
   "outputs": [
    {
     "data": {
      "application/vnd.jupyter.widget-view+json": {
       "model_id": "e9a7acfb513f4cba89c5fb2215cdb2a5",
       "version_major": 2,
       "version_minor": 0
      },
      "text/plain": [
       "  0%|          | 0/850489 [00:00<?, ?it/s]"
      ]
     },
     "metadata": {},
     "output_type": "display_data"
    }
   ],
   "source": [
    "model = TFIDFRecommender()\n",
    "\n",
    "# Train model flag\n",
    "if RETRAIN:\n",
    "    userknn_model = UserKnn(model=model, N_users=50)\n",
    "    userknn_model.fit(train)\n",
    "else:\n",
    "    userknn_model = UserKnn(model=model, N_users=50)\n",
    "    userknn_model.load_weight(train, UserKnn_model.weight_path)"
   ]
  },
  {
   "cell_type": "markdown",
   "id": "f6d5a599",
   "metadata": {},
   "source": [
    "# Get recomendations"
   ]
  },
  {
   "cell_type": "code",
   "execution_count": 11,
   "id": "e0ecaa77",
   "metadata": {},
   "outputs": [],
   "source": [
    "userknn_reco_df = userknn_model.predict(test, UserKnn_model.N_recs)"
   ]
  },
  {
   "cell_type": "markdown",
   "id": "72674ba7",
   "metadata": {},
   "source": [
    "# Save recomendations df"
   ]
  },
  {
   "cell_type": "code",
   "execution_count": 12,
   "id": "2352de2d",
   "metadata": {},
   "outputs": [],
   "source": [
    "userknn_reco_df.to_csv(UserKnn_model.save_reco_df_path, encoding='utf-8', index=False)\n",
    "\n",
    "# df = pd.read_csv('userknn_reco_df', encoding='utf-8')\n"
   ]
  },
  {
   "cell_type": "code",
   "execution_count": 13,
   "id": "6a419a55",
   "metadata": {},
   "outputs": [],
   "source": [
    "# # save model\n",
    "import dill\n",
    "\n",
    "with open(UserKnn_model.weight_path, 'wb') as f:\n",
    "    dill.dump(userknn_model, f)"
   ]
  },
  {
   "cell_type": "code",
   "execution_count": null,
   "id": "96480dc8",
   "metadata": {},
   "outputs": [],
   "source": []
  }
 ],
 "metadata": {
  "kernelspec": {
   "display_name": "Python 3 (ipykernel)",
   "language": "python",
   "name": "python3"
  },
  "language_info": {
   "codemirror_mode": {
    "name": "ipython",
    "version": 3
   },
   "file_extension": ".py",
   "mimetype": "text/x-python",
   "name": "python",
   "nbconvert_exporter": "python",
   "pygments_lexer": "ipython3",
   "version": "3.8.10"
  }
 },
 "nbformat": 4,
 "nbformat_minor": 5
}
