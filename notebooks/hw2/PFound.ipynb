{
 "cells": [
  {
   "cell_type": "markdown",
   "id": "a09b3608",
   "metadata": {},
   "source": [
    "# Задание 2 (средний pFound)\n",
    "\n",
    "## pFound\n",
    "Исходные данные - Yandex Cup 2022 Analytics\n",
    "- Ссылка - https://yandex.ru/cup/analytics/analysis/ , пример A. Рассчитать pFound\n",
    "- Данные - https://yadi.sk/d/guqki4UI4hFlXQ\n",
    "- Формула\n",
    "$$pFound@K = \\sum_{i=1}^{k} pLook[i]\\ pRel[i]$$\n",
    "\n",
    "$$pLook[1] = 1$$\n",
    "\n",
    "$$pLook[i] = pLook[i-1]\\ (1 - pRel[i-1])\\ (1 - pBreak)$$\n",
    "\n",
    "$$pBreak = 0.15$$\n",
    "\n",
    "**Задача** - написать функцию, которая принимает на вход dataframe (после join), а на выходе дает средний pFound по всем query.\n",
    "- Запрещается использовать циклы for для расчет метрики (как полностью, так и ее частей).\n",
    "- Усложнение, если задача показалась легкой - попробуйте обойтись без groupby (не уверен, что это возможно, но вдруг вы справитесь)"
   ]
  },
  {
   "cell_type": "markdown",
   "id": "e181fbb8",
   "metadata": {},
   "source": [
    "# Импорты"
   ]
  },
  {
   "cell_type": "code",
   "execution_count": 1,
   "id": "4bbb7986",
   "metadata": {},
   "outputs": [],
   "source": [
    "import warnings\n",
    "import pandas as pd\n",
    "import requests\n",
    "\n",
    "from urllib.parse import urlencode"
   ]
  },
  {
   "cell_type": "code",
   "execution_count": 2,
   "id": "7415839e",
   "metadata": {},
   "outputs": [],
   "source": [
    "# Disable warnings\n",
    "warnings.filterwarnings('ignore')"
   ]
  },
  {
   "cell_type": "markdown",
   "id": "c8558955",
   "metadata": {},
   "source": [
    "# Загрузка данных"
   ]
  },
  {
   "cell_type": "code",
   "execution_count": 7,
   "id": "3aa7c2d9",
   "metadata": {},
   "outputs": [],
   "source": [
    "base_url = 'https://cloud-api.yandex.net/v1/disk/public/resources/download?'\n",
    "public_key = 'https://yadi.sk/d/guqki4UI4hFlXQ'\n",
    "\n",
    "# Получаем загрузочную ссылку\n",
    "final_url = base_url + urlencode(dict(public_key=public_key))\n",
    "response = requests.get(final_url)\n",
    "download_url = response.json()['href']\n",
    "\n",
    "# Загружаем файл и сохраняем его\n",
    "download_response = requests.get(download_url)\n",
    "with open('data.zip', 'wb') as f: \n",
    "    f.write(download_response.content)"
   ]
  },
  {
   "cell_type": "code",
   "execution_count": 8,
   "id": "eea4c86e",
   "metadata": {},
   "outputs": [
    {
     "name": "stdout",
     "output_type": "stream",
     "text": [
      "Archive:  data.zip\n",
      "  inflating: hidden_task.zip         \n",
      "  inflating: open_task.zip           \n",
      "Archive:  open_task.zip\n",
      "   creating: open_task/\n",
      "  inflating: open_task/qid_query.tsv  \n",
      "  inflating: open_task/hostid_url.tsv  \n",
      "  inflating: open_task/qid_url_rating.tsv  \n"
     ]
    }
   ],
   "source": [
    "!unzip data.zip\n",
    "!rm hidden_task.zip\n",
    "!unzip open_task.zip"
   ]
  },
  {
   "cell_type": "markdown",
   "id": "b279b8f0",
   "metadata": {},
   "source": [
    "# Решение Yandex Cup 2022 Analytics"
   ]
  },
  {
   "cell_type": "code",
   "execution_count": 3,
   "id": "8a4a1cf2",
   "metadata": {},
   "outputs": [],
   "source": [
    "# считываем данные\n",
    "qid_query = pd.read_csv(\"open_task/qid_query.tsv\", sep=\"\\t\", names=[\"qid\", \"query\"])\n",
    "qid_url_rating = pd.read_csv(\"open_task/qid_url_rating.tsv\", sep=\"\\t\", names=[\"qid\", \"url\", \"rating\"])\n",
    "hostid_url = pd.read_csv(\"open_task/hostid_url.tsv\", sep=\"\\t\", names=[\"hostid\", \"url\"])\n",
    "\n",
    "# делаем join двух таблиц, чтобы было просто брать url с максимальным рейтингом\n",
    "qid_url_rating_hostid = pd.merge(qid_url_rating, hostid_url, on=\"url\")"
   ]
  },
  {
   "cell_type": "code",
   "execution_count": 4,
   "id": "1e5bbaa7",
   "metadata": {},
   "outputs": [
    {
     "data": {
      "text/html": [
       "<div>\n",
       "<style scoped>\n",
       "    .dataframe tbody tr th:only-of-type {\n",
       "        vertical-align: middle;\n",
       "    }\n",
       "\n",
       "    .dataframe tbody tr th {\n",
       "        vertical-align: top;\n",
       "    }\n",
       "\n",
       "    .dataframe thead th {\n",
       "        text-align: right;\n",
       "    }\n",
       "</style>\n",
       "<table border=\"1\" class=\"dataframe\">\n",
       "  <thead>\n",
       "    <tr style=\"text-align: right;\">\n",
       "      <th></th>\n",
       "      <th>qid</th>\n",
       "      <th>query</th>\n",
       "    </tr>\n",
       "  </thead>\n",
       "  <tbody>\n",
       "    <tr>\n",
       "      <th>12</th>\n",
       "      <td>295761</td>\n",
       "      <td>гугл переводчик</td>\n",
       "    </tr>\n",
       "  </tbody>\n",
       "</table>\n",
       "</div>"
      ],
      "text/plain": [
       "       qid            query\n",
       "12  295761  гугл переводчик"
      ]
     },
     "execution_count": 4,
     "metadata": {},
     "output_type": "execute_result"
    }
   ],
   "source": [
    "def plook(ind, rels):\n",
    "    if ind == 0:\n",
    "        return 1\n",
    "    return plook(ind-1, rels)*(1-rels[ind-1])*(1-0.15)\n",
    "\n",
    "\n",
    "def pfound(group):\n",
    "    max_by_host = group.groupby(\"hostid\")[\"rating\"].max() # максимальный рейтинг хоста\n",
    "    top10 = max_by_host.sort_values(ascending=False)[:10] # берем топ10 урлов с наивысшим рейтингом\n",
    "    pfound = 0\n",
    "    for ind, val in enumerate(top10):\n",
    "        pfound += val*plook(ind, top10.values)\n",
    "    return pfound\n",
    "\n",
    "\n",
    "qid_pfound = qid_url_rating_hostid.groupby('qid').apply(pfound) # группируем по qid и вычисляем pfound\n",
    "qid_max = qid_pfound.idxmax() # берем qid с максимальным pfound\n",
    "\n",
    "qid_query[qid_query[\"qid\"] == qid_max]"
   ]
  },
  {
   "cell_type": "code",
   "execution_count": 5,
   "id": "d9cfb176",
   "metadata": {},
   "outputs": [
    {
     "data": {
      "text/plain": [
       "qid\n",
       "10387     0.497771\n",
       "20860     0.655448\n",
       "21070     0.497771\n",
       "35618     0.437794\n",
       "107538    0.354808\n",
       "150126    0.366109\n",
       "168170    0.481255\n",
       "176370    0.393661\n",
       "192007    0.191170\n",
       "213932    0.347005\n",
       "221830    0.497771\n",
       "242953    0.497771\n",
       "253476    0.497771\n",
       "295761    0.900836\n",
       "346214    0.263596\n",
       "347852    0.618534\n",
       "360100    0.470204\n",
       "366042    0.309314\n",
       "375608    0.497771\n",
       "380923    0.429989\n",
       "dtype: float64"
      ]
     },
     "execution_count": 5,
     "metadata": {},
     "output_type": "execute_result"
    }
   ],
   "source": [
    "qid_pfound"
   ]
  },
  {
   "cell_type": "code",
   "execution_count": 6,
   "id": "84b3a244",
   "metadata": {},
   "outputs": [
    {
     "data": {
      "text/plain": [
       "0.4603173929969002"
      ]
     },
     "execution_count": 6,
     "metadata": {},
     "output_type": "execute_result"
    }
   ],
   "source": [
    "# Средний pFound\n",
    "qid_pfound.mean()"
   ]
  },
  {
   "cell_type": "markdown",
   "id": "955ae1cb",
   "metadata": {},
   "source": [
    "# Решение без цикла"
   ]
  },
  {
   "cell_type": "markdown",
   "id": "2a2e1915",
   "metadata": {},
   "source": [
    "## Функция для рассчета pFound"
   ]
  },
  {
   "cell_type": "code",
   "execution_count": 19,
   "id": "1939c1d7",
   "metadata": {},
   "outputs": [],
   "source": [
    "def pFound(df: pd.DataFrame, \n",
    "                K: int = 10, \n",
    "                pBreak: float = 0.15):\n",
    "    \n",
    "    merged_df = df.copy()\n",
    "    \n",
    "    # Удаляем дубликаты взаимодейтсвий \n",
    "    duplicates = merged_df[merged_df.duplicated()]\n",
    "    merged_df = merged_df.drop_duplicates(keep='first')\n",
    "    \n",
    "    # Когда у запроса есть несколько документов с одним и тем же hostid: \n",
    "    # 1) оставить только максимально релевантный документ,\n",
    "    # 2) если несколько документов максимально релевантны, выбрать любой.\n",
    "    merged_df = merged_df.groupby(['qid', 'hostid'])['rating'].max().reset_index()\n",
    "    \n",
    "    # Для каждого запроса берем топ K (K = 10) hostid с максимальными рейтингами, сортируем по убыванию\n",
    "    top_K = merged_df.sort_values(['qid', 'rating'], ascending=False).groupby(['qid']).head(K)\n",
    "    \n",
    "    # Порядковые номера для hostid внутри каждого qid (0: k - 1)\n",
    "    top_K['count'] = top_K.groupby('qid').cumcount()\n",
    "\n",
    "    # Вспомогательные множители для расчета pLook\n",
    "    top_K['1-Rel'] = (1 - top_K['rating']).shift(1) # (1 - Rel)\n",
    "    top_K['1-pBreak'] = 1 - pBreak # (1 - pBreak)\n",
    "    \n",
    "    # pLook[1] = 1\n",
    "    top_K.loc[top_K['count'] == 0, ['1-Rel', '1-pBreak']] = 1\n",
    "\n",
    "    # interim - вспомогательная колонка для расчета pLook\n",
    "    top_K['interim'] = top_K['1-Rel'] * top_K['1-pBreak']\n",
    "    top_K['pLook'] = top_K.groupby('qid')['interim'].cumprod()\n",
    "    \n",
    "    # pFound@K\n",
    "    top_K['pFound'] = top_K['pLook'] * top_K['rating']\n",
    "    pFound_qid = top_K.groupby('qid')['pFound'].sum()\n",
    "    \n",
    "    return pFound_qid"
   ]
  },
  {
   "cell_type": "code",
   "execution_count": 20,
   "id": "0fbb16ba",
   "metadata": {},
   "outputs": [
    {
     "name": "stdout",
     "output_type": "stream",
     "text": [
      "Yandex pfound\n",
      "qid\n",
      "10387     0.497771\n",
      "20860     0.655448\n",
      "21070     0.497771\n",
      "35618     0.437794\n",
      "107538    0.354808\n",
      "150126    0.366109\n",
      "168170    0.481255\n",
      "176370    0.393661\n",
      "192007    0.191170\n",
      "213932    0.347005\n",
      "221830    0.497771\n",
      "242953    0.497771\n",
      "253476    0.497771\n",
      "295761    0.900836\n",
      "346214    0.263596\n",
      "347852    0.618534\n",
      "360100    0.470204\n",
      "366042    0.309314\n",
      "375608    0.497771\n",
      "380923    0.429989\n",
      "dtype: float64 \n",
      "\n",
      "Custom pFound\n",
      "qid\n",
      "10387     0.497771\n",
      "20860     0.655448\n",
      "21070     0.497771\n",
      "35618     0.437794\n",
      "107538    0.354808\n",
      "150126    0.366109\n",
      "168170    0.481255\n",
      "176370    0.393661\n",
      "192007    0.191170\n",
      "213932    0.347005\n",
      "221830    0.497771\n",
      "242953    0.497771\n",
      "253476    0.497771\n",
      "295761    0.900836\n",
      "346214    0.263596\n",
      "347852    0.618534\n",
      "360100    0.470204\n",
      "366042    0.309314\n",
      "375608    0.497771\n",
      "380923    0.429989\n",
      "Name: pFound, dtype: float64\n"
     ]
    }
   ],
   "source": [
    "print(\"Yandex pfound\")\n",
    "print(qid_pfound, '\\n')\n",
    "print(\"Custom pFound\")\n",
    "print(pFound(qid_url_rating_hostid))"
   ]
  },
  {
   "cell_type": "markdown",
   "id": "8b73d946",
   "metadata": {},
   "source": [
    "Вывод pFound аналогичен результату qid_pfound Яндекса."
   ]
  },
  {
   "cell_type": "markdown",
   "id": "f73608ee",
   "metadata": {},
   "source": [
    "## Функция для рассчета среднего pFound"
   ]
  },
  {
   "cell_type": "code",
   "execution_count": 17,
   "id": "79dd51b2",
   "metadata": {},
   "outputs": [],
   "source": [
    "def pFound(df: pd.DataFrame, \n",
    "                K: int = 10, \n",
    "                pBreak: float = 0.15):\n",
    "    \n",
    "    merged_df = df.copy()\n",
    "    \n",
    "    # Удаляем дубликаты взаимодейтсвий \n",
    "    duplicates = merged_df[merged_df.duplicated()]\n",
    "    merged_df = merged_df.drop_duplicates(keep='first')\n",
    "    \n",
    "    # Когда у запроса есть несколько документов с одним и тем же hostid: \n",
    "    # 1) оставить только максимально релевантный документ,\n",
    "    # 2) если несколько документов максимально релевантны, выбрать любой.\n",
    "    merged_df = merged_df.groupby(['qid', 'hostid'])['rating'].max().reset_index()\n",
    "    \n",
    "    # Для каждого запроса берем топ K (K = 10) hostid с максимальными рейтингами, сортируем по убыванию\n",
    "    top_K = merged_df.sort_values(['qid', 'rating'], ascending=False).groupby(['qid']).head(K)\n",
    "    \n",
    "    # Порядковые номера для hostid внутри каждого qid (0: k - 1)\n",
    "    top_K['count'] = top_K.groupby('qid').cumcount()\n",
    "\n",
    "    # Вспомогательные множители для расчета pLook\n",
    "    top_K['1-Rel'] = (1 - top_K['rating']).shift(1) # (1 - Rel)\n",
    "    top_K['1-pBreak'] = 1 - pBreak # (1 - pBreak)\n",
    "    \n",
    "    # pLook[1] = 1\n",
    "    top_K.loc[top_K['count'] == 0, ['1-Rel', '1-pBreak']] = 1\n",
    "\n",
    "    # interim - вспомогательная колонка для расчета pLook\n",
    "    top_K['interim'] = top_K['1-Rel'] * top_K['1-pBreak']\n",
    "    top_K['pLook'] = top_K.groupby('qid')['interim'].cumprod()\n",
    "    \n",
    "    # pFound@K\n",
    "    top_K['pFound'] = top_K['pLook'] * top_K['rating']\n",
    "    pFound_qid = top_K.groupby('qid')['pFound'].sum()\n",
    "    pFound_qid_mean = pFound_qid.mean()\n",
    "    \n",
    "    return pFound_qid_mean"
   ]
  },
  {
   "cell_type": "code",
   "execution_count": 18,
   "id": "d23956b0",
   "metadata": {},
   "outputs": [
    {
     "name": "stdout",
     "output_type": "stream",
     "text": [
      "Yandex mean pfound\n",
      "0.4603173929969002 \n",
      "\n",
      "Custom mean pFound\n",
      "0.4603173929969002\n"
     ]
    }
   ],
   "source": [
    "print(\"Yandex mean pfound\")\n",
    "print(qid_pfound.mean(), '\\n')\n",
    "print(\"Custom mean pFound\")\n",
    "print(pFound_mean(qid_url_rating_hostid))"
   ]
  },
  {
   "cell_type": "markdown",
   "id": "c42b376e",
   "metadata": {},
   "source": [
    "Вывод pFound_mean аналогичен результату qid_pfound.mean() Яндекса."
   ]
  },
  {
   "cell_type": "code",
   "execution_count": 11,
   "id": "76807d90",
   "metadata": {},
   "outputs": [
    {
     "name": "stdout",
     "output_type": "stream",
     "text": [
      "7.82 ms ± 222 µs per loop (mean ± std. dev. of 7 runs, 100 loops each)\n"
     ]
    }
   ],
   "source": [
    "%timeit pFound_mean(qid_url_rating_hostid)"
   ]
  }
 ],
 "metadata": {
  "kernelspec": {
   "display_name": "Python 3 (ipykernel)",
   "language": "python",
   "name": "python3"
  },
  "language_info": {
   "codemirror_mode": {
    "name": "ipython",
    "version": 3
   },
   "file_extension": ".py",
   "mimetype": "text/x-python",
   "name": "python",
   "nbconvert_exporter": "python",
   "pygments_lexer": "ipython3",
   "version": "3.8.15"
  },
  "toc": {
   "base_numbering": 1,
   "nav_menu": {},
   "number_sections": true,
   "sideBar": true,
   "skip_h1_title": false,
   "title_cell": "Table of Contents",
   "title_sidebar": "Contents",
   "toc_cell": false,
   "toc_position": {},
   "toc_section_display": true,
   "toc_window_display": true
  }
 },
 "nbformat": 4,
 "nbformat_minor": 5
}
